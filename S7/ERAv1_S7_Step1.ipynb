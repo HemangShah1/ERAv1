{
  "nbformat": 4,
  "nbformat_minor": 0,
  "metadata": {
    "colab": {
      "provenance": [],
      "gpuType": "T4"
    },
    "kernelspec": {
      "name": "python3",
      "display_name": "Python 3"
    }
  },
  "cells": [
    {
      "cell_type": "code",
      "source": [
        "\"\"\"\n",
        "Carry over from Session 6 assignment.\n",
        "\n",
        "Target:\n",
        "Get a decent structure.\n",
        "\n",
        "Result:\n",
        "num params = ~13k\n",
        "test accuracy = 99.0%\n",
        "\n",
        "Analysis:\n",
        "Structure isn't properly balanced yet.\n",
        "Hard to push accuracy without data augmentations.\n",
        "\n",
        "\n",
        "\n",
        "\"\"\"\n",
        "\n",
        "\n"
      ],
      "metadata": {
        "id": "hoYYklcW2Y-S"
      },
      "execution_count": null,
      "outputs": []
    },
    {
      "cell_type": "code",
      "metadata": {
        "id": "0m2JWFliFfKT"
      },
      "source": [
        "from __future__ import print_function\n",
        "import torch\n",
        "import torch.nn as nn\n",
        "import torch.nn.functional as F\n",
        "import torch.optim as optim\n",
        "from torchvision import datasets, transforms"
      ],
      "execution_count": 1,
      "outputs": []
    },
    {
      "cell_type": "code",
      "metadata": {
        "id": "DqTWLaM5GHgH",
        "colab": {
          "base_uri": "https://localhost:8080/"
        },
        "outputId": "37778b8c-f473-4093-9b1a-94d4083d8d3b"
      },
      "source": [
        "use_cuda = torch.cuda.is_available()\n",
        "device = torch.device(\"cuda\" if use_cuda else \"cpu\")\n",
        "print(f'device: {device}')\n",
        "\n",
        "torch.manual_seed(1)\n",
        "batch_size = 128\n",
        "lr=0.01\n",
        "\n",
        "kwargs = {'num_workers': 1, 'pin_memory': True} if use_cuda else {}\n",
        "train_loader = torch.utils.data.DataLoader(\n",
        "    datasets.MNIST('../data', train=True, download=True,\n",
        "                    transform=transforms.Compose([\n",
        "                        transforms.ToTensor(),\n",
        "                        transforms.Normalize((0.1307,), (0.3081,))\n",
        "                    ])),\n",
        "    batch_size=batch_size, shuffle=True, **kwargs)\n",
        "test_loader = torch.utils.data.DataLoader(\n",
        "    datasets.MNIST('../data', train=False, transform=transforms.Compose([\n",
        "                        transforms.ToTensor(),\n",
        "                        transforms.Normalize((0.1307,), (0.3081,))\n",
        "                    ])),\n",
        "    batch_size=batch_size, shuffle=True, **kwargs)\n"
      ],
      "execution_count": 2,
      "outputs": [
        {
          "output_type": "stream",
          "name": "stdout",
          "text": [
            "device: cpu\n",
            "Downloading http://yann.lecun.com/exdb/mnist/train-images-idx3-ubyte.gz\n",
            "Downloading http://yann.lecun.com/exdb/mnist/train-images-idx3-ubyte.gz to ../data/MNIST/raw/train-images-idx3-ubyte.gz\n"
          ]
        },
        {
          "output_type": "stream",
          "name": "stderr",
          "text": [
            "100%|██████████| 9912422/9912422 [00:00<00:00, 91216612.97it/s]\n"
          ]
        },
        {
          "output_type": "stream",
          "name": "stdout",
          "text": [
            "Extracting ../data/MNIST/raw/train-images-idx3-ubyte.gz to ../data/MNIST/raw\n",
            "\n",
            "Downloading http://yann.lecun.com/exdb/mnist/train-labels-idx1-ubyte.gz\n",
            "Downloading http://yann.lecun.com/exdb/mnist/train-labels-idx1-ubyte.gz to ../data/MNIST/raw/train-labels-idx1-ubyte.gz\n"
          ]
        },
        {
          "output_type": "stream",
          "name": "stderr",
          "text": [
            "100%|██████████| 28881/28881 [00:00<00:00, 81517963.54it/s]"
          ]
        },
        {
          "output_type": "stream",
          "name": "stdout",
          "text": [
            "Extracting ../data/MNIST/raw/train-labels-idx1-ubyte.gz to ../data/MNIST/raw\n",
            "\n",
            "Downloading http://yann.lecun.com/exdb/mnist/t10k-images-idx3-ubyte.gz\n",
            "Downloading http://yann.lecun.com/exdb/mnist/t10k-images-idx3-ubyte.gz to ../data/MNIST/raw/t10k-images-idx3-ubyte.gz\n"
          ]
        },
        {
          "output_type": "stream",
          "name": "stderr",
          "text": [
            "\n",
            "100%|██████████| 1648877/1648877 [00:00<00:00, 25758085.46it/s]\n"
          ]
        },
        {
          "output_type": "stream",
          "name": "stdout",
          "text": [
            "Extracting ../data/MNIST/raw/t10k-images-idx3-ubyte.gz to ../data/MNIST/raw\n",
            "\n",
            "Downloading http://yann.lecun.com/exdb/mnist/t10k-labels-idx1-ubyte.gz\n",
            "Downloading http://yann.lecun.com/exdb/mnist/t10k-labels-idx1-ubyte.gz to ../data/MNIST/raw/t10k-labels-idx1-ubyte.gz\n"
          ]
        },
        {
          "output_type": "stream",
          "name": "stderr",
          "text": [
            "100%|██████████| 4542/4542 [00:00<00:00, 3447435.54it/s]"
          ]
        },
        {
          "output_type": "stream",
          "name": "stdout",
          "text": [
            "Extracting ../data/MNIST/raw/t10k-labels-idx1-ubyte.gz to ../data/MNIST/raw\n",
            "\n"
          ]
        },
        {
          "output_type": "stream",
          "name": "stderr",
          "text": [
            "\n"
          ]
        }
      ]
    },
    {
      "cell_type": "code",
      "metadata": {
        "id": "8fDefDhaFlwH"
      },
      "source": [
        "from tqdm import tqdm\n",
        "def train(model, device, train_loader, optimizer, epoch):\n",
        "    model.train()\n",
        "    pbar = tqdm(train_loader)\n",
        "    correct = 0\n",
        "    train_loss = 0\n",
        "    for batch_idx, (data, target) in enumerate(pbar):\n",
        "        data, target = data.to(device), target.to(device)\n",
        "        optimizer.zero_grad()\n",
        "        output = model(data)\n",
        "        loss = F.nll_loss(output, target)\n",
        "        loss.backward()\n",
        "        optimizer.step()\n",
        "        train_loss += loss.item()\n",
        "\n",
        "        pred = output.argmax(dim=1, keepdim=True)  # get the index of the max log-probability\n",
        "        correct += pred.eq(target.view_as(pred)).sum().item()\n",
        "\n",
        "        pbar.set_description(desc= f'loss={loss.item()} batch_id={batch_idx}')\n",
        "\n",
        "    train_loss /= len(train_loader.dataset)\n",
        "\n",
        "    print('\\n#Train set: Average loss: {:.4f}, Accuracy: {:.2f}%'.format(\n",
        "        train_loss,\n",
        "        100. * correct / len(train_loader.dataset)))\n",
        "\n",
        "\n",
        "def test(model, device, test_loader):\n",
        "    model.eval()\n",
        "    test_loss = 0\n",
        "    correct = 0\n",
        "    with torch.no_grad():\n",
        "        for data, target in test_loader:\n",
        "            data, target = data.to(device), target.to(device)\n",
        "            output = model(data)\n",
        "            test_loss += F.nll_loss(output, target, reduction='sum').item()  # sum up batch loss\n",
        "            pred = output.argmax(dim=1, keepdim=True)  # get the index of the max log-probability\n",
        "            correct += pred.eq(target.view_as(pred)).sum().item()\n",
        "\n",
        "    test_loss /= len(test_loader.dataset)\n",
        "\n",
        "    print('#Test set: Average loss: {:.4f}, Accuracy: {}/{} ({:.2f}%)\\n'.format(\n",
        "        test_loss, correct, len(test_loader.dataset),\n",
        "        100. * correct / len(test_loader.dataset)))"
      ],
      "execution_count": 3,
      "outputs": []
    },
    {
      "cell_type": "code",
      "source": [
        "class Net_0(nn.Module):\n",
        "    def __init__(self):\n",
        "        super(Net, self).__init__()\n",
        "        self.conv1 = nn.Conv2d(1, 32, 3, padding=1)   #input - 28, Output 28, RF\n",
        "        self.conv2 = nn.Conv2d(32, 64, 3, padding=1)\n",
        "        self.pool1 = nn.MaxPool2d(2, 2)\n",
        "        self.conv3 = nn.Conv2d(64, 128, 3, padding=1) #input - 14, Output 14, RF\n",
        "        self.conv4 = nn.Conv2d(128, 256, 3, padding=1)\n",
        "        self.pool2 = nn.MaxPool2d(2, 2)\n",
        "        self.conv5 = nn.Conv2d(256, 512, 3)           #input - 7, Output 5, RF\n",
        "        self.conv6 = nn.Conv2d(512, 1024, 3)          #input - 5, Output 3, RF\n",
        "        self.conv7 = nn.Conv2d(1024, 10, 3)           #input - 3, Output 1, RF\n",
        "\n",
        "    def forward(self, x):\n",
        "        x = self.pool1(F.relu(self.conv2(F.relu(self.conv1(x)))))\n",
        "        x = self.pool2(F.relu(self.conv4(F.relu(self.conv3(x)))))\n",
        "        x = F.relu(self.conv6(F.relu(self.conv5(x))))\n",
        "        x = F.relu(self.conv7(x))\n",
        "        x = x.view(-1, 10)\n",
        "        return F.log_softmax(x)\n",
        "\n",
        "Net = Net_0\n",
        "\n",
        "%pip install torchsummary\n",
        "from torchsummary import summary\n",
        "use_cuda = torch.cuda.is_available()\n",
        "device = torch.device(\"cuda\" if use_cuda else \"cpu\")\n",
        "print(f'device: {device}')\n",
        "model = Net().to(device)\n",
        "summary(model, input_size=(1, 28, 28))\n",
        "\n",
        "# 10: Test set: Average loss: 0.2577, Accuracy: 8935/10000 (89%)"
      ],
      "metadata": {
        "colab": {
          "base_uri": "https://localhost:8080/"
        },
        "id": "XTEvOlzDAxTE",
        "outputId": "d6f262cb-c3df-4d7f-8db2-6839b304dc2f"
      },
      "execution_count": 4,
      "outputs": [
        {
          "output_type": "stream",
          "name": "stdout",
          "text": [
            "Looking in indexes: https://pypi.org/simple, https://us-python.pkg.dev/colab-wheels/public/simple/\n",
            "Requirement already satisfied: torchsummary in /usr/local/lib/python3.10/dist-packages (1.5.1)\n",
            "device: cpu\n",
            "----------------------------------------------------------------\n",
            "        Layer (type)               Output Shape         Param #\n",
            "================================================================\n",
            "            Conv2d-1           [-1, 32, 28, 28]             320\n",
            "            Conv2d-2           [-1, 64, 28, 28]          18,496\n",
            "         MaxPool2d-3           [-1, 64, 14, 14]               0\n",
            "            Conv2d-4          [-1, 128, 14, 14]          73,856\n",
            "            Conv2d-5          [-1, 256, 14, 14]         295,168\n",
            "         MaxPool2d-6            [-1, 256, 7, 7]               0\n",
            "            Conv2d-7            [-1, 512, 5, 5]       1,180,160\n",
            "            Conv2d-8           [-1, 1024, 3, 3]       4,719,616\n",
            "            Conv2d-9             [-1, 10, 1, 1]          92,170\n",
            "================================================================\n",
            "Total params: 6,379,786\n",
            "Trainable params: 6,379,786\n",
            "Non-trainable params: 0\n",
            "----------------------------------------------------------------\n",
            "Input size (MB): 0.00\n",
            "Forward/backward pass size (MB): 1.51\n",
            "Params size (MB): 24.34\n",
            "Estimated Total Size (MB): 25.85\n",
            "----------------------------------------------------------------\n"
          ]
        },
        {
          "output_type": "stream",
          "name": "stderr",
          "text": [
            "<ipython-input-4-fd306f6240ea>:20: UserWarning: Implicit dimension choice for log_softmax has been deprecated. Change the call to include dim=X as an argument.\n",
            "  return F.log_softmax(x)\n"
          ]
        }
      ]
    },
    {
      "cell_type": "code",
      "source": [
        "# Fix Relu before the last layer\n",
        "\n",
        "class Net_1(nn.Module):\n",
        "    def __init__(self):\n",
        "        super(Net, self).__init__()\n",
        "        self.conv1 = nn.Conv2d(1, 32, 3, padding=1)   #input - 28, Output 28, RF\n",
        "        self.conv2 = nn.Conv2d(32, 64, 3, padding=1)\n",
        "        self.pool1 = nn.MaxPool2d(2, 2)\n",
        "        self.conv3 = nn.Conv2d(64, 128, 3, padding=1) #input - 14, Output 14, RF\n",
        "        self.conv4 = nn.Conv2d(128, 256, 3, padding=1)\n",
        "        self.pool2 = nn.MaxPool2d(2, 2)\n",
        "        self.conv5 = nn.Conv2d(256, 512, 3)           #input - 7, Output 5, RF\n",
        "        self.conv6 = nn.Conv2d(512, 1024, 3)          #input - 5, Output 3, RF\n",
        "        self.conv7 = nn.Conv2d(1024, 10, 3)           #input - 3, Output 1, RF\n",
        "\n",
        "    def forward(self, x):\n",
        "        x = self.pool1(F.relu(self.conv2(F.relu(self.conv1(x)))))\n",
        "        x = self.pool2(F.relu(self.conv4(F.relu(self.conv3(x)))))\n",
        "        x = F.relu(self.conv6(F.relu(self.conv5(x))))\n",
        "        x = self.conv7(x)\n",
        "        x = x.view(-1, 10)\n",
        "        return F.log_softmax(x)\n",
        "\n",
        "Net = Net_1\n",
        "\n",
        "%pip install torchsummary\n",
        "from torchsummary import summary\n",
        "use_cuda = torch.cuda.is_available()\n",
        "device = torch.device(\"cuda\" if use_cuda else \"cpu\")\n",
        "print(f'device: {device}')\n",
        "model = Net().to(device)\n",
        "summary(model, input_size=(1, 28, 28))\n",
        "\n",
        "# 10: Test set: Average loss: 0.0281, Accuracy: 9916/10000 (99%)"
      ],
      "metadata": {
        "colab": {
          "base_uri": "https://localhost:8080/"
        },
        "id": "neUWvNWqDSMY",
        "outputId": "426cf2d4-c0b8-40f1-f1aa-8c881363072b"
      },
      "execution_count": 5,
      "outputs": [
        {
          "output_type": "stream",
          "name": "stdout",
          "text": [
            "Looking in indexes: https://pypi.org/simple, https://us-python.pkg.dev/colab-wheels/public/simple/\n",
            "Requirement already satisfied: torchsummary in /usr/local/lib/python3.10/dist-packages (1.5.1)\n",
            "device: cpu\n",
            "----------------------------------------------------------------\n",
            "        Layer (type)               Output Shape         Param #\n",
            "================================================================\n",
            "            Conv2d-1           [-1, 32, 28, 28]             320\n",
            "            Conv2d-2           [-1, 64, 28, 28]          18,496\n",
            "         MaxPool2d-3           [-1, 64, 14, 14]               0\n",
            "            Conv2d-4          [-1, 128, 14, 14]          73,856\n",
            "            Conv2d-5          [-1, 256, 14, 14]         295,168\n",
            "         MaxPool2d-6            [-1, 256, 7, 7]               0\n",
            "            Conv2d-7            [-1, 512, 5, 5]       1,180,160\n",
            "            Conv2d-8           [-1, 1024, 3, 3]       4,719,616\n",
            "            Conv2d-9             [-1, 10, 1, 1]          92,170\n",
            "================================================================\n",
            "Total params: 6,379,786\n",
            "Trainable params: 6,379,786\n",
            "Non-trainable params: 0\n",
            "----------------------------------------------------------------\n",
            "Input size (MB): 0.00\n",
            "Forward/backward pass size (MB): 1.51\n",
            "Params size (MB): 24.34\n",
            "Estimated Total Size (MB): 25.85\n",
            "----------------------------------------------------------------\n"
          ]
        },
        {
          "output_type": "stream",
          "name": "stderr",
          "text": [
            "<ipython-input-5-d446bbdc4090>:22: UserWarning: Implicit dimension choice for log_softmax has been deprecated. Change the call to include dim=X as an argument.\n",
            "  return F.log_softmax(x)\n"
          ]
        }
      ]
    },
    {
      "cell_type": "code",
      "source": [
        "# Replace FCs by 1x1x256x10 + GAP\n",
        "\n",
        "class Net_2(nn.Module):\n",
        "    def __init__(self):\n",
        "        super(Net, self).__init__()\n",
        "        self.conv1 = nn.Conv2d(1, 32, 3, padding=1)   #input - 28, Output 28, RF\n",
        "        self.conv2 = nn.Conv2d(32, 64, 3, padding=1)\n",
        "        self.pool1 = nn.MaxPool2d(2, 2)\n",
        "        self.conv3 = nn.Conv2d(64, 128, 3, padding=1) #input - 14, Output 14, RF\n",
        "        self.conv4 = nn.Conv2d(128, 256, 3, padding=1)\n",
        "        self.pool2 = nn.MaxPool2d(2, 2)\n",
        "\n",
        "        self.conv5 = nn.Conv2d(256, 10, 1)            #input - 7, Output 7, RF\n",
        "        self.gap = nn.AvgPool2d(7)\n",
        "\n",
        "    def forward(self, x):\n",
        "        x = self.pool1(F.relu(self.conv2(F.relu(self.conv1(x)))))\n",
        "        x = self.pool2(F.relu(self.conv4(F.relu(self.conv3(x)))))\n",
        "        x = F.relu(self.conv5(x))\n",
        "        x = self.gap(x)\n",
        "        x = x.view(-1, 10)\n",
        "        return F.log_softmax(x)\n",
        "\n",
        "Net = Net_2\n",
        "\n",
        "%pip install torchsummary\n",
        "from torchsummary import summary\n",
        "use_cuda = torch.cuda.is_available()\n",
        "device = torch.device(\"cuda\" if use_cuda else \"cpu\")\n",
        "print(f'device: {device}')\n",
        "model = Net().to(device)\n",
        "summary(model, input_size=(1, 28, 28))\n",
        "\n",
        "# 10: Test set: Average loss: 0.0533, Accuracy: 9837/10000 (98%)\n",
        "# 20: Test set: Average loss: 0.0283, Accuracy: 9900/10000 (99%)"
      ],
      "metadata": {
        "colab": {
          "base_uri": "https://localhost:8080/"
        },
        "id": "IcKeenJxD815",
        "outputId": "e0f44dfd-e1b0-487e-b999-043d29f19669"
      },
      "execution_count": 6,
      "outputs": [
        {
          "output_type": "stream",
          "name": "stdout",
          "text": [
            "Looking in indexes: https://pypi.org/simple, https://us-python.pkg.dev/colab-wheels/public/simple/\n",
            "Requirement already satisfied: torchsummary in /usr/local/lib/python3.10/dist-packages (1.5.1)\n",
            "device: cpu\n",
            "----------------------------------------------------------------\n",
            "        Layer (type)               Output Shape         Param #\n",
            "================================================================\n",
            "            Conv2d-1           [-1, 32, 28, 28]             320\n",
            "            Conv2d-2           [-1, 64, 28, 28]          18,496\n",
            "         MaxPool2d-3           [-1, 64, 14, 14]               0\n",
            "            Conv2d-4          [-1, 128, 14, 14]          73,856\n",
            "            Conv2d-5          [-1, 256, 14, 14]         295,168\n",
            "         MaxPool2d-6            [-1, 256, 7, 7]               0\n",
            "            Conv2d-7             [-1, 10, 7, 7]           2,570\n",
            "         AvgPool2d-8             [-1, 10, 1, 1]               0\n",
            "================================================================\n",
            "Total params: 390,410\n",
            "Trainable params: 390,410\n",
            "Non-trainable params: 0\n",
            "----------------------------------------------------------------\n",
            "Input size (MB): 0.00\n",
            "Forward/backward pass size (MB): 1.34\n",
            "Params size (MB): 1.49\n",
            "Estimated Total Size (MB): 2.84\n",
            "----------------------------------------------------------------\n"
          ]
        },
        {
          "output_type": "stream",
          "name": "stderr",
          "text": [
            "<ipython-input-6-1b2eedc01adf>:22: UserWarning: Implicit dimension choice for log_softmax has been deprecated. Change the call to include dim=X as an argument.\n",
            "  return F.log_softmax(x)\n"
          ]
        }
      ]
    },
    {
      "cell_type": "code",
      "source": [
        "# Remove conv4. max 64 ch\n",
        "\n",
        "class Net_3(nn.Module):\n",
        "    def __init__(self):\n",
        "        super(Net, self).__init__()\n",
        "        self.conv1 = nn.Conv2d(1, 32, 3, padding=1)     #input - 28, Output 28, RF\n",
        "        self.conv2 = nn.Conv2d(32, 64, 3, padding=1)\n",
        "        self.pool1 = nn.MaxPool2d(2, 2)\n",
        "        self.conv3 = nn.Conv2d(64, 64, 3, padding=1)   #input - 14, Output 14, RF\n",
        "        # self.conv4 = nn.Conv2d(128, 256, 3, padding=1)\n",
        "        self.pool2 = nn.MaxPool2d(2, 2)\n",
        "\n",
        "        self.conv5 = nn.Conv2d(64, 10, 1)              #input - 7, Output 7, RF\n",
        "        self.gap = nn.AvgPool2d(7)\n",
        "\n",
        "    def forward(self, x):\n",
        "        x = self.pool1(F.relu(self.conv2(F.relu(self.conv1(x)))))\n",
        "        x = self.pool2(F.relu(self.conv3(x)))\n",
        "        x = F.relu(self.conv5(x))\n",
        "        x = self.gap(x)\n",
        "        x = x.view(-1, 10)\n",
        "        return F.log_softmax(x)\n",
        "\n",
        "Net = Net_3\n",
        "\n",
        "%pip install torchsummary\n",
        "from torchsummary import summary\n",
        "use_cuda = torch.cuda.is_available()\n",
        "device = torch.device(\"cuda\" if use_cuda else \"cpu\")\n",
        "print(f'device: {device}')\n",
        "model = Net().to(device)\n",
        "summary(model, input_size=(1, 28, 28))\n",
        "\n",
        "# 10: Test set: Average loss: 0.1315, Accuracy: 9608/10000 (96%)\n"
      ],
      "metadata": {
        "colab": {
          "base_uri": "https://localhost:8080/"
        },
        "id": "8ppMCYVJHLP5",
        "outputId": "d7dab16d-df51-4661-a05e-b7e801c98b1e"
      },
      "execution_count": 7,
      "outputs": [
        {
          "output_type": "stream",
          "name": "stdout",
          "text": [
            "Looking in indexes: https://pypi.org/simple, https://us-python.pkg.dev/colab-wheels/public/simple/\n",
            "Requirement already satisfied: torchsummary in /usr/local/lib/python3.10/dist-packages (1.5.1)\n",
            "device: cpu\n",
            "----------------------------------------------------------------\n",
            "        Layer (type)               Output Shape         Param #\n",
            "================================================================\n",
            "            Conv2d-1           [-1, 32, 28, 28]             320\n",
            "            Conv2d-2           [-1, 64, 28, 28]          18,496\n",
            "         MaxPool2d-3           [-1, 64, 14, 14]               0\n",
            "            Conv2d-4           [-1, 64, 14, 14]          36,928\n",
            "         MaxPool2d-5             [-1, 64, 7, 7]               0\n",
            "            Conv2d-6             [-1, 10, 7, 7]             650\n",
            "         AvgPool2d-7             [-1, 10, 1, 1]               0\n",
            "================================================================\n",
            "Total params: 56,394\n",
            "Trainable params: 56,394\n",
            "Non-trainable params: 0\n",
            "----------------------------------------------------------------\n",
            "Input size (MB): 0.00\n",
            "Forward/backward pass size (MB): 0.79\n",
            "Params size (MB): 0.22\n",
            "Estimated Total Size (MB): 1.01\n",
            "----------------------------------------------------------------\n"
          ]
        },
        {
          "output_type": "stream",
          "name": "stderr",
          "text": [
            "<ipython-input-7-ef5df2dedb87>:22: UserWarning: Implicit dimension choice for log_softmax has been deprecated. Change the call to include dim=X as an argument.\n",
            "  return F.log_softmax(x)\n"
          ]
        }
      ]
    },
    {
      "cell_type": "code",
      "source": [
        "# Add BN\n",
        "\n",
        "class Net_4(nn.Module):\n",
        "    def __init__(self):\n",
        "        super(Net, self).__init__()\n",
        "        self.conv1 = nn.Conv2d(1, 32, 3, padding=1)     #input - 28, Output 28, RF\n",
        "        self.bn1 = nn.BatchNorm2d(32)\n",
        "        self.conv2 = nn.Conv2d(32, 64, 3, padding=1)\n",
        "        self.bn2 = nn.BatchNorm2d(64)\n",
        "        self.pool1 = nn.MaxPool2d(2, 2)\n",
        "        self.conv3 = nn.Conv2d(64, 64, 3, padding=1)   #input - 14, Output 14, RF\n",
        "        self.bn3 = nn.BatchNorm2d(64)\n",
        "        # self.conv4 = nn.Conv2d(128, 256, 3, padding=1)\n",
        "        self.pool2 = nn.MaxPool2d(2, 2)\n",
        "\n",
        "        self.conv5 = nn.Conv2d(64, 10, 1)              #input - 7, Output 7, RF\n",
        "        self.gap = nn.AvgPool2d(7)\n",
        "\n",
        "    def forward(self, x):\n",
        "        x = self.pool1(F.relu(self.bn2(self.conv2(F.relu(self.bn1(self.conv1(x)))))))\n",
        "        x = self.pool2(F.relu(self.bn3(self.conv3(x))))\n",
        "        x = F.relu(self.conv5(x))\n",
        "        x = self.gap(x)\n",
        "        x = x.view(-1, 10)\n",
        "        return F.log_softmax(x)\n",
        "\n",
        "Net = Net_4\n",
        "\n",
        "%pip install torchsummary\n",
        "from torchsummary import summary\n",
        "use_cuda = torch.cuda.is_available()\n",
        "device = torch.device(\"cuda\" if use_cuda else \"cpu\")\n",
        "print(f'device: {device}')\n",
        "model = Net().to(device)\n",
        "summary(model, input_size=(1, 28, 28))\n",
        "\n",
        "#epoch: 10\n",
        "#loss=0.03565816953778267 batch_id=468: 100%|██████████| 469/469 [00:20<00:00, 22.78it/s]\n",
        "#Test set: Average loss: 0.1311, Accuracy: 9607/10000 (96%)"
      ],
      "metadata": {
        "colab": {
          "base_uri": "https://localhost:8080/"
        },
        "id": "GtqJsFxZLTtQ",
        "outputId": "5529b74c-ac5c-4b5f-b4ab-6d4c6d69ba19"
      },
      "execution_count": 8,
      "outputs": [
        {
          "output_type": "stream",
          "name": "stdout",
          "text": [
            "Looking in indexes: https://pypi.org/simple, https://us-python.pkg.dev/colab-wheels/public/simple/\n",
            "Requirement already satisfied: torchsummary in /usr/local/lib/python3.10/dist-packages (1.5.1)\n",
            "device: cpu\n",
            "----------------------------------------------------------------\n",
            "        Layer (type)               Output Shape         Param #\n",
            "================================================================\n",
            "            Conv2d-1           [-1, 32, 28, 28]             320\n",
            "       BatchNorm2d-2           [-1, 32, 28, 28]              64\n",
            "            Conv2d-3           [-1, 64, 28, 28]          18,496\n",
            "       BatchNorm2d-4           [-1, 64, 28, 28]             128\n",
            "         MaxPool2d-5           [-1, 64, 14, 14]               0\n",
            "            Conv2d-6           [-1, 64, 14, 14]          36,928\n",
            "       BatchNorm2d-7           [-1, 64, 14, 14]             128\n",
            "         MaxPool2d-8             [-1, 64, 7, 7]               0\n",
            "            Conv2d-9             [-1, 10, 7, 7]             650\n",
            "        AvgPool2d-10             [-1, 10, 1, 1]               0\n",
            "================================================================\n",
            "Total params: 56,714\n",
            "Trainable params: 56,714\n",
            "Non-trainable params: 0\n",
            "----------------------------------------------------------------\n",
            "Input size (MB): 0.00\n",
            "Forward/backward pass size (MB): 1.46\n",
            "Params size (MB): 0.22\n",
            "Estimated Total Size (MB): 1.68\n",
            "----------------------------------------------------------------\n"
          ]
        },
        {
          "output_type": "stream",
          "name": "stderr",
          "text": [
            "<ipython-input-8-f0a46e270cc2>:25: UserWarning: Implicit dimension choice for log_softmax has been deprecated. Change the call to include dim=X as an argument.\n",
            "  return F.log_softmax(x)\n"
          ]
        }
      ]
    },
    {
      "cell_type": "code",
      "source": [
        "# Add BN to Net_2\n",
        "\n",
        "class Net_5(nn.Module):\n",
        "    def __init__(self):\n",
        "        super(Net, self).__init__()\n",
        "        self.conv1 = nn.Conv2d(1, 32, 3, padding=1)   #input - 28, Output 28, RF\n",
        "        self.bn1 = nn.BatchNorm2d(32)\n",
        "        self.conv2 = nn.Conv2d(32, 64, 3, padding=1)\n",
        "        self.bn2 = nn.BatchNorm2d(64)\n",
        "        self.pool1 = nn.MaxPool2d(2, 2)\n",
        "\n",
        "        self.conv3 = nn.Conv2d(64, 128, 3, padding=1) #input - 14, Output 14, RF\n",
        "        self.bn3 = nn.BatchNorm2d(128)\n",
        "        self.conv4 = nn.Conv2d(128, 256, 3, padding=1)\n",
        "        self.bn4 = nn.BatchNorm2d(256)\n",
        "        self.pool2 = nn.MaxPool2d(2, 2)\n",
        "\n",
        "        self.conv5 = nn.Conv2d(256, 10, 1)            #input - 7, Output 7, RF\n",
        "        self.gap = nn.AvgPool2d(7)\n",
        "\n",
        "    def forward(self, x):\n",
        "        x = self.pool1(F.relu(self.bn2(self.conv2(F.relu(self.bn1(self.conv1(x)))))))\n",
        "        x = self.pool2(F.relu(self.bn4(self.conv4(F.relu(self.bn3(self.conv3(x)))))))\n",
        "        x = F.relu(self.conv5(x))\n",
        "        x = self.gap(x)\n",
        "        x = x.view(-1, 10)\n",
        "        return F.log_softmax(x)\n",
        "\n",
        "Net = Net_5\n",
        "\n",
        "%pip install torchsummary\n",
        "from torchsummary import summary\n",
        "use_cuda = torch.cuda.is_available()\n",
        "device = torch.device(\"cuda\" if use_cuda else \"cpu\")\n",
        "print(f'device: {device}')\n",
        "model = Net().to(device)\n",
        "summary(model, input_size=(1, 28, 28))\n",
        "\n",
        "#epoch: 10\n",
        "#loss=0.019351879134774208 batch_id=468: 100%|██████████| 469/469 [00:21<00:00, 21.98it/s]\n",
        "#Test set: Average loss: 0.0452, Accuracy: 9850/10000 (98%)\n",
        "\n",
        "#epoch: 19\n",
        "#loss=0.0030171473044902086 batch_id=468: 100%|██████████| 469/469 [00:22<00:00, 21.02it/s]\n",
        "#Test set: Average loss: 0.0286, Accuracy: 9914/10000 (99%)\n",
        "\n"
      ],
      "metadata": {
        "colab": {
          "base_uri": "https://localhost:8080/"
        },
        "id": "8uuvRUyuOqV6",
        "outputId": "d8a2d62a-cf51-41c2-e78d-1dfa1207bf49"
      },
      "execution_count": 9,
      "outputs": [
        {
          "output_type": "stream",
          "name": "stdout",
          "text": [
            "Looking in indexes: https://pypi.org/simple, https://us-python.pkg.dev/colab-wheels/public/simple/\n",
            "Requirement already satisfied: torchsummary in /usr/local/lib/python3.10/dist-packages (1.5.1)\n",
            "device: cpu\n",
            "----------------------------------------------------------------\n",
            "        Layer (type)               Output Shape         Param #\n",
            "================================================================\n",
            "            Conv2d-1           [-1, 32, 28, 28]             320\n",
            "       BatchNorm2d-2           [-1, 32, 28, 28]              64\n",
            "            Conv2d-3           [-1, 64, 28, 28]          18,496\n",
            "       BatchNorm2d-4           [-1, 64, 28, 28]             128\n",
            "         MaxPool2d-5           [-1, 64, 14, 14]               0\n",
            "            Conv2d-6          [-1, 128, 14, 14]          73,856\n",
            "       BatchNorm2d-7          [-1, 128, 14, 14]             256\n",
            "            Conv2d-8          [-1, 256, 14, 14]         295,168\n",
            "       BatchNorm2d-9          [-1, 256, 14, 14]             512\n",
            "        MaxPool2d-10            [-1, 256, 7, 7]               0\n",
            "           Conv2d-11             [-1, 10, 7, 7]           2,570\n",
            "        AvgPool2d-12             [-1, 10, 1, 1]               0\n",
            "================================================================\n",
            "Total params: 391,370\n",
            "Trainable params: 391,370\n",
            "Non-trainable params: 0\n",
            "----------------------------------------------------------------\n",
            "Input size (MB): 0.00\n",
            "Forward/backward pass size (MB): 2.49\n",
            "Params size (MB): 1.49\n",
            "Estimated Total Size (MB): 3.99\n",
            "----------------------------------------------------------------\n"
          ]
        },
        {
          "output_type": "stream",
          "name": "stderr",
          "text": [
            "<ipython-input-9-54da46554f4d>:27: UserWarning: Implicit dimension choice for log_softmax has been deprecated. Change the call to include dim=X as an argument.\n",
            "  return F.log_softmax(x)\n"
          ]
        }
      ]
    },
    {
      "cell_type": "code",
      "source": [
        "# Add dropout\n",
        "\n",
        "class Net_6(nn.Module):\n",
        "    def __init__(self):\n",
        "        super(Net, self).__init__()\n",
        "        self.conv1 = nn.Conv2d(1, 32, 3, padding=1)   #input - 28, Output 28, RF\n",
        "        self.bn1 = nn.BatchNorm2d(32)\n",
        "        self.conv2 = nn.Conv2d(32, 64, 3, padding=1)\n",
        "        self.bn2 = nn.BatchNorm2d(64)\n",
        "        self.pool1 = nn.MaxPool2d(2, 2)\n",
        "\n",
        "        self.conv3 = nn.Conv2d(64, 128, 3, padding=1) #input - 14, Output 14, RF\n",
        "        self.bn3 = nn.BatchNorm2d(128)\n",
        "        self.conv4 = nn.Conv2d(128, 256, 3, padding=1)\n",
        "        self.bn4 = nn.BatchNorm2d(256)\n",
        "        self.pool2 = nn.MaxPool2d(2, 2)\n",
        "\n",
        "        self.conv5 = nn.Conv2d(256, 10, 1)            #input - 7, Output 7, RF\n",
        "        self.gap = nn.AvgPool2d(7)\n",
        "\n",
        "        self.dropout1 = nn.Dropout(0.05)\n",
        "        self.dropout2 = nn.Dropout(0.05)\n",
        "        self.dropout3 = nn.Dropout(0.05)\n",
        "        self.dropout4 = nn.Dropout(0.05)\n",
        "\n",
        "    def forward(self, x):\n",
        "        x = F.relu(self.bn1(self.conv1(x)))\n",
        "        x = self.dropout1(x)\n",
        "        x = F.relu(self.bn2(self.conv2(x)))\n",
        "        x = self.dropout2(x)\n",
        "\n",
        "        x = self.pool1(x)\n",
        "\n",
        "        x = F.relu(self.bn3(self.conv3(x)))\n",
        "        x = self.dropout3(x)\n",
        "        x = F.relu(self.bn4(self.conv4(x)))\n",
        "        x = self.dropout4(x)\n",
        "\n",
        "        x = self.pool2(x)\n",
        "\n",
        "        x = F.relu(self.conv5(x))\n",
        "        x = self.gap(x)\n",
        "\n",
        "        x = x.view(-1, 10)\n",
        "        return F.log_softmax(x)\n",
        "\n",
        "Net = Net_6\n",
        "\n",
        "%pip install torchsummary\n",
        "from torchsummary import summary\n",
        "use_cuda = torch.cuda.is_available()\n",
        "device = torch.device(\"cuda\" if use_cuda else \"cpu\")\n",
        "print(f'device: {device}')\n",
        "model = Net().to(device)\n",
        "summary(model, input_size=(1, 28, 28))\n",
        "\n",
        "\n",
        "#epoch: 10\n",
        "#loss=0.016568930819630623 batch_id=468: 100%|██████████| 469/469 [00:21<00:00, 21.46it/s]\n",
        "#Test set: Average loss: 0.0456, Accuracy: 9866/10000 (99%)\n",
        "\n",
        "#epoch: 20\n",
        "#loss=0.008861390873789787 batch_id=468: 100%|██████████| 469/469 [00:21<00:00, 21.52it/s]\n",
        "#Test set: Average loss: 0.0351, Accuracy: 9891/10000 (99%)\n",
        "\n"
      ],
      "metadata": {
        "colab": {
          "base_uri": "https://localhost:8080/"
        },
        "id": "WraBd5GdQZy3",
        "outputId": "1517996d-c3b7-49cb-d232-96d293fafb15"
      },
      "execution_count": 10,
      "outputs": [
        {
          "output_type": "stream",
          "name": "stdout",
          "text": [
            "Looking in indexes: https://pypi.org/simple, https://us-python.pkg.dev/colab-wheels/public/simple/\n",
            "Requirement already satisfied: torchsummary in /usr/local/lib/python3.10/dist-packages (1.5.1)\n",
            "device: cpu\n",
            "----------------------------------------------------------------\n",
            "        Layer (type)               Output Shape         Param #\n",
            "================================================================\n",
            "            Conv2d-1           [-1, 32, 28, 28]             320\n",
            "       BatchNorm2d-2           [-1, 32, 28, 28]              64\n",
            "           Dropout-3           [-1, 32, 28, 28]               0\n",
            "            Conv2d-4           [-1, 64, 28, 28]          18,496\n",
            "       BatchNorm2d-5           [-1, 64, 28, 28]             128\n",
            "           Dropout-6           [-1, 64, 28, 28]               0\n",
            "         MaxPool2d-7           [-1, 64, 14, 14]               0\n",
            "            Conv2d-8          [-1, 128, 14, 14]          73,856\n",
            "       BatchNorm2d-9          [-1, 128, 14, 14]             256\n",
            "          Dropout-10          [-1, 128, 14, 14]               0\n",
            "           Conv2d-11          [-1, 256, 14, 14]         295,168\n",
            "      BatchNorm2d-12          [-1, 256, 14, 14]             512\n",
            "          Dropout-13          [-1, 256, 14, 14]               0\n",
            "        MaxPool2d-14            [-1, 256, 7, 7]               0\n",
            "           Conv2d-15             [-1, 10, 7, 7]           2,570\n",
            "        AvgPool2d-16             [-1, 10, 1, 1]               0\n",
            "================================================================\n",
            "Total params: 391,370\n",
            "Trainable params: 391,370\n",
            "Non-trainable params: 0\n",
            "----------------------------------------------------------------\n",
            "Input size (MB): 0.00\n",
            "Forward/backward pass size (MB): 3.64\n",
            "Params size (MB): 1.49\n",
            "Estimated Total Size (MB): 5.14\n",
            "----------------------------------------------------------------\n"
          ]
        },
        {
          "output_type": "stream",
          "name": "stderr",
          "text": [
            "<ipython-input-10-4dea95c24870>:45: UserWarning: Implicit dimension choice for log_softmax has been deprecated. Change the call to include dim=X as an argument.\n",
            "  return F.log_softmax(x)\n"
          ]
        }
      ]
    },
    {
      "cell_type": "code",
      "source": [
        "# Larger dropout\n",
        "\n",
        "class Net_7(nn.Module):\n",
        "    def __init__(self):\n",
        "        super(Net, self).__init__()\n",
        "        self.conv1 = nn.Conv2d(1, 32, 3, padding=1)   #input - 28, Output 28, RF\n",
        "        self.bn1 = nn.BatchNorm2d(32)\n",
        "        self.conv2 = nn.Conv2d(32, 64, 3, padding=1)\n",
        "        self.bn2 = nn.BatchNorm2d(64)\n",
        "        self.pool1 = nn.MaxPool2d(2, 2)\n",
        "\n",
        "        self.conv3 = nn.Conv2d(64, 128, 3, padding=1) #input - 14, Output 14, RF\n",
        "        self.bn3 = nn.BatchNorm2d(128)\n",
        "        self.conv4 = nn.Conv2d(128, 256, 3, padding=1)\n",
        "        self.bn4 = nn.BatchNorm2d(256)\n",
        "        self.pool2 = nn.MaxPool2d(2, 2)\n",
        "\n",
        "        self.conv5 = nn.Conv2d(256, 10, 1)            #input - 7, Output 7, RF\n",
        "        self.gap = nn.AvgPool2d(7)\n",
        "\n",
        "        self.dropout1 = nn.Dropout(0.1)\n",
        "        self.dropout2 = nn.Dropout(0.1)\n",
        "        self.dropout3 = nn.Dropout(0.1)\n",
        "        self.dropout4 = nn.Dropout(0.1)\n",
        "\n",
        "    def forward(self, x):\n",
        "        x = F.relu(self.bn1(self.conv1(x)))\n",
        "        x = self.dropout1(x)\n",
        "        x = F.relu(self.bn2(self.conv2(x)))\n",
        "        x = self.dropout2(x)\n",
        "\n",
        "        x = self.pool1(x)\n",
        "\n",
        "        x = F.relu(self.bn3(self.conv3(x)))\n",
        "        x = self.dropout3(x)\n",
        "        x = F.relu(self.bn4(self.conv4(x)))\n",
        "        x = self.dropout4(x)\n",
        "\n",
        "        x = self.pool2(x)\n",
        "\n",
        "        x = F.relu(self.conv5(x))\n",
        "        x = self.gap(x)\n",
        "\n",
        "        x = x.view(-1, 10)\n",
        "        return F.log_softmax(x)\n",
        "\n",
        "Net = Net_7\n",
        "\n",
        "%pip install torchsummary\n",
        "from torchsummary import summary\n",
        "use_cuda = torch.cuda.is_available()\n",
        "device = torch.device(\"cuda\" if use_cuda else \"cpu\")\n",
        "print(f'device: {device}')\n",
        "model = Net().to(device)\n",
        "summary(model, input_size=(1, 28, 28))\n",
        "\n",
        "\n",
        "#epoch: 10\n",
        "#loss=0.007140759844332933 batch_id=468: 100%|██████████| 469/469 [00:21<00:00, 22.26it/s]\n",
        "#Test set: Average loss: 0.0569, Accuracy: 9839/10000 (98%)\n",
        "\n",
        "#epoch: 20\n",
        "#loss=0.024968238547444344 batch_id=468: 100%|██████████| 469/469 [00:21<00:00, 21.36it/s]\n",
        "#Test set: Average loss: 0.0469, Accuracy: 9878/10000 (99%)\n",
        "\n"
      ],
      "metadata": {
        "colab": {
          "base_uri": "https://localhost:8080/"
        },
        "id": "MRGLFukfZDSB",
        "outputId": "cba83b98-3853-491f-d4fa-63dd299d0807"
      },
      "execution_count": 11,
      "outputs": [
        {
          "output_type": "stream",
          "name": "stdout",
          "text": [
            "Looking in indexes: https://pypi.org/simple, https://us-python.pkg.dev/colab-wheels/public/simple/\n",
            "Requirement already satisfied: torchsummary in /usr/local/lib/python3.10/dist-packages (1.5.1)\n",
            "device: cpu\n",
            "----------------------------------------------------------------\n",
            "        Layer (type)               Output Shape         Param #\n",
            "================================================================\n",
            "            Conv2d-1           [-1, 32, 28, 28]             320\n",
            "       BatchNorm2d-2           [-1, 32, 28, 28]              64\n",
            "           Dropout-3           [-1, 32, 28, 28]               0\n",
            "            Conv2d-4           [-1, 64, 28, 28]          18,496\n",
            "       BatchNorm2d-5           [-1, 64, 28, 28]             128\n",
            "           Dropout-6           [-1, 64, 28, 28]               0\n",
            "         MaxPool2d-7           [-1, 64, 14, 14]               0\n",
            "            Conv2d-8          [-1, 128, 14, 14]          73,856\n",
            "       BatchNorm2d-9          [-1, 128, 14, 14]             256\n",
            "          Dropout-10          [-1, 128, 14, 14]               0\n",
            "           Conv2d-11          [-1, 256, 14, 14]         295,168\n",
            "      BatchNorm2d-12          [-1, 256, 14, 14]             512\n",
            "          Dropout-13          [-1, 256, 14, 14]               0\n",
            "        MaxPool2d-14            [-1, 256, 7, 7]               0\n",
            "           Conv2d-15             [-1, 10, 7, 7]           2,570\n",
            "        AvgPool2d-16             [-1, 10, 1, 1]               0\n",
            "================================================================\n",
            "Total params: 391,370\n",
            "Trainable params: 391,370\n",
            "Non-trainable params: 0\n",
            "----------------------------------------------------------------\n",
            "Input size (MB): 0.00\n",
            "Forward/backward pass size (MB): 3.64\n",
            "Params size (MB): 1.49\n",
            "Estimated Total Size (MB): 5.14\n",
            "----------------------------------------------------------------\n"
          ]
        },
        {
          "output_type": "stream",
          "name": "stderr",
          "text": [
            "<ipython-input-11-04ecb2b16683>:45: UserWarning: Implicit dimension choice for log_softmax has been deprecated. Change the call to include dim=X as an argument.\n",
            "  return F.log_softmax(x)\n"
          ]
        }
      ]
    },
    {
      "cell_type": "code",
      "source": [
        "# Use cross_entropy instead of log_softmax\n",
        "\n",
        "class Net_8(nn.Module):\n",
        "    def __init__(self):\n",
        "        super(Net, self).__init__()\n",
        "        self.conv1 = nn.Conv2d(1, 32, 3, padding=1)   #input - 28, Output 28, RF\n",
        "        self.bn1 = nn.BatchNorm2d(32)\n",
        "        self.conv2 = nn.Conv2d(32, 64, 3, padding=1)\n",
        "        self.bn2 = nn.BatchNorm2d(64)\n",
        "        self.pool1 = nn.MaxPool2d(2, 2)\n",
        "\n",
        "        self.conv3 = nn.Conv2d(64, 128, 3, padding=1) #input - 14, Output 14, RF\n",
        "        self.bn3 = nn.BatchNorm2d(128)\n",
        "        self.conv4 = nn.Conv2d(128, 256, 3, padding=1)\n",
        "        self.bn4 = nn.BatchNorm2d(256)\n",
        "        self.pool2 = nn.MaxPool2d(2, 2)\n",
        "\n",
        "        self.conv5 = nn.Conv2d(256, 10, 1)            #input - 7, Output 7, RF\n",
        "        self.gap = nn.AvgPool2d(7)\n",
        "\n",
        "        self.dropout1 = nn.Dropout(0.1)\n",
        "        self.dropout2 = nn.Dropout(0.1)\n",
        "        self.dropout3 = nn.Dropout(0.1)\n",
        "        self.dropout4 = nn.Dropout(0.1)\n",
        "\n",
        "    def forward(self, x):\n",
        "        x = F.relu(self.bn1(self.conv1(x)))\n",
        "        x = self.dropout1(x)\n",
        "        x = F.relu(self.bn2(self.conv2(x)))\n",
        "        x = self.dropout2(x)\n",
        "\n",
        "        x = self.pool1(x)\n",
        "\n",
        "        x = F.relu(self.bn3(self.conv3(x)))\n",
        "        x = self.dropout3(x)\n",
        "        x = F.relu(self.bn4(self.conv4(x)))\n",
        "        x = self.dropout4(x)\n",
        "\n",
        "        x = self.pool2(x)\n",
        "\n",
        "        x = F.relu(self.conv5(x))\n",
        "        x = self.gap(x)\n",
        "\n",
        "        x = x.view(-1, 10)\n",
        "        # return F.log_softmax(x)\n",
        "        return x\n",
        "\n",
        "Net = Net_8\n",
        "\n",
        "%pip install torchsummary\n",
        "from torchsummary import summary\n",
        "use_cuda = torch.cuda.is_available()\n",
        "device = torch.device(\"cuda\" if use_cuda else \"cpu\")\n",
        "print(f'device: {device}')\n",
        "model = Net().to(device)\n",
        "summary(model, input_size=(1, 28, 28))\n",
        "\n",
        "\n",
        "from tqdm import tqdm\n",
        "def train_ce(model, device, train_loader, optimizer, epoch):\n",
        "    model.train()\n",
        "    pbar = tqdm(train_loader)\n",
        "    for batch_idx, (data, target) in enumerate(pbar):\n",
        "        data, target = data.to(device), target.to(device)\n",
        "        optimizer.zero_grad()\n",
        "        output = model(data)\n",
        "        loss = F.cross_entropy(output, target)\n",
        "        loss.backward()\n",
        "        optimizer.step()\n",
        "        pbar.set_description(desc= f'loss={loss.item()} batch_id={batch_idx}')\n",
        "\n",
        "\n",
        "def test_ce(model, device, test_loader):\n",
        "    model.eval()\n",
        "    test_loss = 0\n",
        "    correct = 0\n",
        "    with torch.no_grad():\n",
        "        for data, target in test_loader:\n",
        "            data, target = data.to(device), target.to(device)\n",
        "            output = model(data)\n",
        "            test_loss += F.cross_entropy(output, target, reduction='sum').item()  # sum up batch loss\n",
        "            pred = output.argmax(dim=1, keepdim=True)  # get the index of the max log-probability\n",
        "            correct += pred.eq(target.view_as(pred)).sum().item()\n",
        "\n",
        "    test_loss /= len(test_loader.dataset)\n",
        "\n",
        "    print('\\nTest set: Average loss: {:.4f}, Accuracy: {}/{} ({:.0f}%)\\n'.format(\n",
        "        test_loss, correct, len(test_loader.dataset),\n",
        "        100. * correct / len(test_loader.dataset)))\n",
        "\n",
        "\n",
        "optimizer = optim.SGD(model.parameters(), lr=0.01, momentum=0.9)\n",
        "\n",
        "# for epoch in range(1, 21):\n",
        "#     print(f'epoch: {epoch}')\n",
        "#     train_ce(model, device, train_loader, optimizer, epoch)\n",
        "#     test_ce(model, device, test_loader)\n",
        "\n",
        "#stopped early\n",
        "# 59% accuracy at epoch 8\n"
      ],
      "metadata": {
        "colab": {
          "base_uri": "https://localhost:8080/"
        },
        "id": "1J-Au8i4AI-h",
        "outputId": "07548461-56c8-48b2-ab3f-1b18f26b03dc"
      },
      "execution_count": 12,
      "outputs": [
        {
          "output_type": "stream",
          "name": "stdout",
          "text": [
            "Looking in indexes: https://pypi.org/simple, https://us-python.pkg.dev/colab-wheels/public/simple/\n",
            "Requirement already satisfied: torchsummary in /usr/local/lib/python3.10/dist-packages (1.5.1)\n",
            "device: cpu\n",
            "----------------------------------------------------------------\n",
            "        Layer (type)               Output Shape         Param #\n",
            "================================================================\n",
            "            Conv2d-1           [-1, 32, 28, 28]             320\n",
            "       BatchNorm2d-2           [-1, 32, 28, 28]              64\n",
            "           Dropout-3           [-1, 32, 28, 28]               0\n",
            "            Conv2d-4           [-1, 64, 28, 28]          18,496\n",
            "       BatchNorm2d-5           [-1, 64, 28, 28]             128\n",
            "           Dropout-6           [-1, 64, 28, 28]               0\n",
            "         MaxPool2d-7           [-1, 64, 14, 14]               0\n",
            "            Conv2d-8          [-1, 128, 14, 14]          73,856\n",
            "       BatchNorm2d-9          [-1, 128, 14, 14]             256\n",
            "          Dropout-10          [-1, 128, 14, 14]               0\n",
            "           Conv2d-11          [-1, 256, 14, 14]         295,168\n",
            "      BatchNorm2d-12          [-1, 256, 14, 14]             512\n",
            "          Dropout-13          [-1, 256, 14, 14]               0\n",
            "        MaxPool2d-14            [-1, 256, 7, 7]               0\n",
            "           Conv2d-15             [-1, 10, 7, 7]           2,570\n",
            "        AvgPool2d-16             [-1, 10, 1, 1]               0\n",
            "================================================================\n",
            "Total params: 391,370\n",
            "Trainable params: 391,370\n",
            "Non-trainable params: 0\n",
            "----------------------------------------------------------------\n",
            "Input size (MB): 0.00\n",
            "Forward/backward pass size (MB): 3.64\n",
            "Params size (MB): 1.49\n",
            "Estimated Total Size (MB): 5.14\n",
            "----------------------------------------------------------------\n"
          ]
        }
      ]
    },
    {
      "cell_type": "code",
      "source": [
        "# Use cross_entropy instead of log_softmax, use Adam\n",
        "\n",
        "class Net_9(nn.Module):\n",
        "    def __init__(self):\n",
        "        super(Net, self).__init__()\n",
        "        self.conv1 = nn.Conv2d(1, 32, 3, padding=1)   #input - 28, Output 28, RF\n",
        "        self.bn1 = nn.BatchNorm2d(32)\n",
        "        self.conv2 = nn.Conv2d(32, 64, 3, padding=1)\n",
        "        self.bn2 = nn.BatchNorm2d(64)\n",
        "        self.pool1 = nn.MaxPool2d(2, 2)\n",
        "\n",
        "        self.conv3 = nn.Conv2d(64, 128, 3, padding=1) #input - 14, Output 14, RF\n",
        "        self.bn3 = nn.BatchNorm2d(128)\n",
        "        self.conv4 = nn.Conv2d(128, 256, 3, padding=1)\n",
        "        self.bn4 = nn.BatchNorm2d(256)\n",
        "        self.pool2 = nn.MaxPool2d(2, 2)\n",
        "\n",
        "        self.conv5 = nn.Conv2d(256, 10, 1)            #input - 7, Output 7, RF\n",
        "        self.gap = nn.AvgPool2d(7)\n",
        "\n",
        "        self.dropout1 = nn.Dropout(0.1)\n",
        "        self.dropout2 = nn.Dropout(0.1)\n",
        "        self.dropout3 = nn.Dropout(0.1)\n",
        "        self.dropout4 = nn.Dropout(0.1)\n",
        "\n",
        "    def forward(self, x):\n",
        "        x = F.relu(self.bn1(self.conv1(x)))\n",
        "        x = self.dropout1(x)\n",
        "        x = F.relu(self.bn2(self.conv2(x)))\n",
        "        x = self.dropout2(x)\n",
        "\n",
        "        x = self.pool1(x)\n",
        "\n",
        "        x = F.relu(self.bn3(self.conv3(x)))\n",
        "        x = self.dropout3(x)\n",
        "        x = F.relu(self.bn4(self.conv4(x)))\n",
        "        x = self.dropout4(x)\n",
        "\n",
        "        x = self.pool2(x)\n",
        "\n",
        "        x = F.relu(self.conv5(x))\n",
        "        x = self.gap(x)\n",
        "\n",
        "        x = x.view(-1, 10)\n",
        "        # return F.log_softmax(x)\n",
        "        return x\n",
        "\n",
        "Net = Net_9\n",
        "\n",
        "%pip install torchsummary\n",
        "from torchsummary import summary\n",
        "use_cuda = torch.cuda.is_available()\n",
        "device = torch.device(\"cuda\" if use_cuda else \"cpu\")\n",
        "print(f'device: {device}')\n",
        "model = Net().to(device)\n",
        "summary(model, input_size=(1, 28, 28))\n",
        "\n",
        "\n",
        "from tqdm import tqdm\n",
        "def train_ce(model, device, train_loader, optimizer, epoch):\n",
        "    model.train()\n",
        "    pbar = tqdm(train_loader)\n",
        "    for batch_idx, (data, target) in enumerate(pbar):\n",
        "        data, target = data.to(device), target.to(device)\n",
        "        optimizer.zero_grad()\n",
        "        output = model(data)\n",
        "        loss = F.cross_entropy(output, target)\n",
        "        loss.backward()\n",
        "        optimizer.step()\n",
        "        pbar.set_description(desc= f'loss={loss.item()} batch_id={batch_idx}')\n",
        "\n",
        "\n",
        "def test_ce(model, device, test_loader):\n",
        "    model.eval()\n",
        "    test_loss = 0\n",
        "    correct = 0\n",
        "    with torch.no_grad():\n",
        "        for data, target in test_loader:\n",
        "            data, target = data.to(device), target.to(device)\n",
        "            output = model(data)\n",
        "            test_loss += F.cross_entropy(output, target, reduction='sum').item()  # sum up batch loss\n",
        "            pred = output.argmax(dim=1, keepdim=True)  # get the index of the max log-probability\n",
        "            correct += pred.eq(target.view_as(pred)).sum().item()\n",
        "\n",
        "    test_loss /= len(test_loader.dataset)\n",
        "\n",
        "    print('\\nTest set: Average loss: {:.4f}, Accuracy: {}/{} ({:.0f}%)\\n'.format(\n",
        "        test_loss, correct, len(test_loader.dataset),\n",
        "        100. * correct / len(test_loader.dataset)))\n",
        "\n",
        "\n",
        "optimizer = optim.Adam(model.parameters(), lr=0.01)\n",
        "\n",
        "# for epoch in range(1, 21):\n",
        "#     print(f'epoch: {epoch}')\n",
        "#     train_ce(model, device, train_loader, optimizer, epoch)\n",
        "#     test_ce(model, device, test_loader)\n",
        "\n",
        "#stopped early\n",
        "# 59% accuracy at epoch 8\n",
        "\n"
      ],
      "metadata": {
        "colab": {
          "base_uri": "https://localhost:8080/"
        },
        "id": "0pWlFCjYGGl3",
        "outputId": "d0225872-8f31-4621-8968-8511b522c08a"
      },
      "execution_count": 13,
      "outputs": [
        {
          "output_type": "stream",
          "name": "stdout",
          "text": [
            "Looking in indexes: https://pypi.org/simple, https://us-python.pkg.dev/colab-wheels/public/simple/\n",
            "Requirement already satisfied: torchsummary in /usr/local/lib/python3.10/dist-packages (1.5.1)\n",
            "device: cpu\n",
            "----------------------------------------------------------------\n",
            "        Layer (type)               Output Shape         Param #\n",
            "================================================================\n",
            "            Conv2d-1           [-1, 32, 28, 28]             320\n",
            "       BatchNorm2d-2           [-1, 32, 28, 28]              64\n",
            "           Dropout-3           [-1, 32, 28, 28]               0\n",
            "            Conv2d-4           [-1, 64, 28, 28]          18,496\n",
            "       BatchNorm2d-5           [-1, 64, 28, 28]             128\n",
            "           Dropout-6           [-1, 64, 28, 28]               0\n",
            "         MaxPool2d-7           [-1, 64, 14, 14]               0\n",
            "            Conv2d-8          [-1, 128, 14, 14]          73,856\n",
            "       BatchNorm2d-9          [-1, 128, 14, 14]             256\n",
            "          Dropout-10          [-1, 128, 14, 14]               0\n",
            "           Conv2d-11          [-1, 256, 14, 14]         295,168\n",
            "      BatchNorm2d-12          [-1, 256, 14, 14]             512\n",
            "          Dropout-13          [-1, 256, 14, 14]               0\n",
            "        MaxPool2d-14            [-1, 256, 7, 7]               0\n",
            "           Conv2d-15             [-1, 10, 7, 7]           2,570\n",
            "        AvgPool2d-16             [-1, 10, 1, 1]               0\n",
            "================================================================\n",
            "Total params: 391,370\n",
            "Trainable params: 391,370\n",
            "Non-trainable params: 0\n",
            "----------------------------------------------------------------\n",
            "Input size (MB): 0.00\n",
            "Forward/backward pass size (MB): 3.64\n",
            "Params size (MB): 1.49\n",
            "Estimated Total Size (MB): 5.14\n",
            "----------------------------------------------------------------\n"
          ]
        }
      ]
    },
    {
      "cell_type": "code",
      "source": [
        "# Lighter model + Step LR\n",
        "\n",
        "class Net_10(nn.Module):\n",
        "    def __init__(self):\n",
        "        super(Net, self).__init__()\n",
        "        self.conv1 = nn.Conv2d(1, 32, 3, padding=1)   #input - 28, Output 28, RF\n",
        "        self.bn1 = nn.BatchNorm2d(32)\n",
        "        # self.conv2 = nn.Conv2d(32, 64, 3, padding=1)\n",
        "        # self.bn2 = nn.BatchNorm2d(64)\n",
        "        self.pool1 = nn.MaxPool2d(2, 2)\n",
        "\n",
        "        self.conv3 = nn.Conv2d(32, 64, 3, padding=1) #input - 14, Output 14, RF\n",
        "        self.bn3 = nn.BatchNorm2d(64)\n",
        "        # self.conv4 = nn.Conv2d(128, 256, 3, padding=1)\n",
        "        # self.bn4 = nn.BatchNorm2d(256)\n",
        "        self.pool2 = nn.MaxPool2d(2, 2)\n",
        "\n",
        "        self.conv5 = nn.Conv2d(64, 10, 1)            #input - 7, Output 7, RF\n",
        "        self.gap = nn.AvgPool2d(7)\n",
        "\n",
        "        self.dropout1 = nn.Dropout(0.1)\n",
        "        self.dropout2 = nn.Dropout(0.1)\n",
        "        self.dropout3 = nn.Dropout(0.1)\n",
        "        self.dropout4 = nn.Dropout(0.1)\n",
        "\n",
        "    def forward(self, x):\n",
        "        x = F.relu(self.bn1(self.conv1(x)))\n",
        "        x = self.dropout1(x)\n",
        "        # x = F.relu(self.bn2(self.conv2(x)))\n",
        "        # x = self.dropout2(x)\n",
        "\n",
        "        x = self.pool1(x)\n",
        "\n",
        "        x = F.relu(self.bn3(self.conv3(x)))\n",
        "        x = self.dropout3(x)\n",
        "        # x = F.relu(self.bn4(self.conv4(x)))\n",
        "        # x = self.dropout4(x)\n",
        "\n",
        "        x = self.pool2(x)\n",
        "\n",
        "        x = F.relu(self.conv5(x))\n",
        "        x = self.gap(x)\n",
        "\n",
        "        x = x.view(-1, 10)\n",
        "        return F.log_softmax(x)\n",
        "\n",
        "Net = Net_10\n",
        "lr = 0.01\n",
        "\n",
        "%pip install torchsummary\n",
        "from torchsummary import summary\n",
        "use_cuda = torch.cuda.is_available()\n",
        "device = torch.device(\"cuda\" if use_cuda else \"cpu\")\n",
        "print(f'device: {device}')\n",
        "model = Net().to(device)\n",
        "summary(model, input_size=(1, 28, 28))\n",
        "\n",
        "\n",
        "#epoch: 10\n",
        "# loss=0.19617058336734772 batch_id=468: 100%|██████████| 469/469 [00:18<00:00, 25.51it/s]\n",
        "# Test set: Average loss: 0.2381, Accuracy: 9359/10000 (94%)\n",
        "\n",
        "\n",
        "#epoch: 20\n",
        "# 94%"
      ],
      "metadata": {
        "colab": {
          "base_uri": "https://localhost:8080/"
        },
        "id": "B8s48w6wclbs",
        "outputId": "d0aa0823-8236-4fe3-f9f8-126fa3ac3b89"
      },
      "execution_count": 14,
      "outputs": [
        {
          "output_type": "stream",
          "name": "stdout",
          "text": [
            "Looking in indexes: https://pypi.org/simple, https://us-python.pkg.dev/colab-wheels/public/simple/\n",
            "Requirement already satisfied: torchsummary in /usr/local/lib/python3.10/dist-packages (1.5.1)\n",
            "device: cpu\n",
            "----------------------------------------------------------------\n",
            "        Layer (type)               Output Shape         Param #\n",
            "================================================================\n",
            "            Conv2d-1           [-1, 32, 28, 28]             320\n",
            "       BatchNorm2d-2           [-1, 32, 28, 28]              64\n",
            "           Dropout-3           [-1, 32, 28, 28]               0\n",
            "         MaxPool2d-4           [-1, 32, 14, 14]               0\n",
            "            Conv2d-5           [-1, 64, 14, 14]          18,496\n",
            "       BatchNorm2d-6           [-1, 64, 14, 14]             128\n",
            "           Dropout-7           [-1, 64, 14, 14]               0\n",
            "         MaxPool2d-8             [-1, 64, 7, 7]               0\n",
            "            Conv2d-9             [-1, 10, 7, 7]             650\n",
            "        AvgPool2d-10             [-1, 10, 1, 1]               0\n",
            "================================================================\n",
            "Total params: 19,658\n",
            "Trainable params: 19,658\n",
            "Non-trainable params: 0\n",
            "----------------------------------------------------------------\n",
            "Input size (MB): 0.00\n",
            "Forward/backward pass size (MB): 0.94\n",
            "Params size (MB): 0.07\n",
            "Estimated Total Size (MB): 1.01\n",
            "----------------------------------------------------------------\n"
          ]
        },
        {
          "output_type": "stream",
          "name": "stderr",
          "text": [
            "<ipython-input-14-288ed7e1b71e>:45: UserWarning: Implicit dimension choice for log_softmax has been deprecated. Change the call to include dim=X as an argument.\n",
            "  return F.log_softmax(x)\n"
          ]
        }
      ]
    },
    {
      "cell_type": "code",
      "source": [
        "# Remove padding and have only 1 maxpool, reduce num params\n",
        "\n",
        "class Net_11(nn.Module):\n",
        "    def __init__(self):\n",
        "        super(Net, self).__init__()\n",
        "        self.conv1 = nn.Conv2d(1, 10, 3, padding=0)   #input - 28, Output 26, RF\n",
        "        self.bn1 = nn.BatchNorm2d(10)\n",
        "        self.conv2 = nn.Conv2d(10, 12, 3, padding=0)   #input - 26, Output 24, RF\n",
        "        self.bn2 = nn.BatchNorm2d(12)\n",
        "        self.conv3 = nn.Conv2d(12, 20, 3, padding=0)   #input - 24, Output 22, RF\n",
        "        self.bn3 = nn.BatchNorm2d(20)\n",
        "\n",
        "        # self.conv2 = nn.Conv2d(32, 64, 3, padding=1)\n",
        "        # self.bn2 = nn.BatchNorm2d(64)\n",
        "        self.pool1 = nn.MaxPool2d(2, 2)\n",
        "\n",
        "        self.conv4 = nn.Conv2d(20, 20, 3, padding=0) #input - 11, Output 9, RF\n",
        "        self.bn4 = nn.BatchNorm2d(20)\n",
        "\n",
        "        self.conv5 = nn.Conv2d(20, 10, 3, padding=0) #input - 9, Output 7, RF\n",
        "        # self.bn3 = nn.BatchNorm2d(10)\n",
        "\n",
        "        # self.conv4 = nn.Conv2d(128, 256, 3, padding=1)\n",
        "        # self.bn4 = nn.BatchNorm2d(256)\n",
        "        # self.pool2 = nn.MaxPool2d(2, 2)\n",
        "\n",
        "        # self.conv5 = nn.Conv2d(10, 10, 1)            #input - 7, Output 7, RF\n",
        "        self.gap = nn.AvgPool2d(7)\n",
        "\n",
        "        self.dropout1 = nn.Dropout(0.1)\n",
        "        self.dropout2 = nn.Dropout(0.1)\n",
        "        self.dropout3 = nn.Dropout(0.1)\n",
        "        self.dropout4 = nn.Dropout(0.1)\n",
        "        self.dropout5 = nn.Dropout(0.1)\n",
        "\n",
        "    def forward(self, x):\n",
        "        x = F.relu(self.bn1(self.conv1(x)))\n",
        "        x = self.dropout1(x)\n",
        "        x = F.relu(self.bn2(self.conv2(x)))\n",
        "        x = self.dropout2(x)\n",
        "        x = F.relu(self.bn3(self.conv3(x)))\n",
        "        x = self.dropout3(x)\n",
        "\n",
        "        x = self.pool1(x)\n",
        "\n",
        "        x = F.relu(self.bn4(self.conv4(x)))\n",
        "        x = self.dropout4(x)\n",
        "        # x = F.relu(self.bn5(self.conv5(x)))\n",
        "        # x = self.dropout5(x)\n",
        "\n",
        "        # x = self.pool2(x)\n",
        "\n",
        "        x = F.relu(self.conv5(x))\n",
        "        x = self.gap(x)\n",
        "\n",
        "        x = x.view(-1, 10)\n",
        "        return F.log_softmax(x)\n",
        "\n",
        "Net = Net_11\n",
        "lr = 0.01\n",
        "\n",
        "%pip install torchsummary\n",
        "from torchsummary import summary\n",
        "use_cuda = torch.cuda.is_available()\n",
        "device = torch.device(\"cuda\" if use_cuda else \"cpu\")\n",
        "print(f'device: {device}')\n",
        "model = Net().to(device)\n",
        "summary(model, input_size=(1, 28, 28))\n",
        "\n",
        "\n",
        "\n",
        "#epoch: 20\n",
        "#Train set: Average loss: 0.0003, Accuracy: 98.89%\n",
        "#Test set: Average loss: 0.0384, Accuracy: 9875/10000 (99%)\n",
        "\n"
      ],
      "metadata": {
        "colab": {
          "base_uri": "https://localhost:8080/"
        },
        "id": "8S1qb2RKm8gT",
        "outputId": "613c8759-6fce-43e4-ff23-8708b9cc963a"
      },
      "execution_count": 15,
      "outputs": [
        {
          "output_type": "stream",
          "name": "stdout",
          "text": [
            "Looking in indexes: https://pypi.org/simple, https://us-python.pkg.dev/colab-wheels/public/simple/\n",
            "Requirement already satisfied: torchsummary in /usr/local/lib/python3.10/dist-packages (1.5.1)\n",
            "device: cpu\n",
            "----------------------------------------------------------------\n",
            "        Layer (type)               Output Shape         Param #\n",
            "================================================================\n",
            "            Conv2d-1           [-1, 10, 26, 26]             100\n",
            "       BatchNorm2d-2           [-1, 10, 26, 26]              20\n",
            "           Dropout-3           [-1, 10, 26, 26]               0\n",
            "            Conv2d-4           [-1, 12, 24, 24]           1,092\n",
            "       BatchNorm2d-5           [-1, 12, 24, 24]              24\n",
            "           Dropout-6           [-1, 12, 24, 24]               0\n",
            "            Conv2d-7           [-1, 20, 22, 22]           2,180\n",
            "       BatchNorm2d-8           [-1, 20, 22, 22]              40\n",
            "           Dropout-9           [-1, 20, 22, 22]               0\n",
            "        MaxPool2d-10           [-1, 20, 11, 11]               0\n",
            "           Conv2d-11             [-1, 20, 9, 9]           3,620\n",
            "      BatchNorm2d-12             [-1, 20, 9, 9]              40\n",
            "          Dropout-13             [-1, 20, 9, 9]               0\n",
            "           Conv2d-14             [-1, 10, 7, 7]           1,810\n",
            "        AvgPool2d-15             [-1, 10, 1, 1]               0\n",
            "================================================================\n",
            "Total params: 8,926\n",
            "Trainable params: 8,926\n",
            "Non-trainable params: 0\n",
            "----------------------------------------------------------------\n",
            "Input size (MB): 0.00\n",
            "Forward/backward pass size (MB): 0.59\n",
            "Params size (MB): 0.03\n",
            "Estimated Total Size (MB): 0.63\n",
            "----------------------------------------------------------------\n"
          ]
        },
        {
          "output_type": "stream",
          "name": "stderr",
          "text": [
            "<ipython-input-15-0cc2e504432e>:57: UserWarning: Implicit dimension choice for log_softmax has been deprecated. Change the call to include dim=X as an argument.\n",
            "  return F.log_softmax(x)\n"
          ]
        }
      ]
    },
    {
      "cell_type": "code",
      "source": [
        "# Remove padding and have only 1 maxpool, increase num params to 15k\n",
        "\n",
        "class Net_12(nn.Module):\n",
        "    def __init__(self):\n",
        "        super(Net, self).__init__()\n",
        "        self.conv1 = nn.Conv2d(1, 10, 3, padding=0)   #input - 28, Output 26, RF\n",
        "        self.bn1 = nn.BatchNorm2d(10)\n",
        "        self.conv2 = nn.Conv2d(10, 10, 3, padding=0)   #input - 26, Output 24, RF\n",
        "        self.bn2 = nn.BatchNorm2d(10)\n",
        "        self.conv3 = nn.Conv2d(10, 24, 3, padding=0)   #input - 24, Output 22, RF\n",
        "        self.bn3 = nn.BatchNorm2d(24)\n",
        "\n",
        "        # self.conv2 = nn.Conv2d(32, 64, 3, padding=1)\n",
        "        # self.bn2 = nn.BatchNorm2d(64)\n",
        "        self.pool1 = nn.MaxPool2d(2, 2)\n",
        "\n",
        "        self.conv4 = nn.Conv2d(24, 32, 3, padding=0) #input - 11, Output 9, RF\n",
        "        self.bn4 = nn.BatchNorm2d(32)\n",
        "\n",
        "        self.conv5 = nn.Conv2d(32, 10, 3, padding=0) #input - 9, Output 7, RF\n",
        "        # self.bn3 = nn.BatchNorm2d(10)\n",
        "\n",
        "        # self.conv4 = nn.Conv2d(128, 256, 3, padding=1)\n",
        "        # self.bn4 = nn.BatchNorm2d(256)\n",
        "        # self.pool2 = nn.MaxPool2d(2, 2)\n",
        "\n",
        "        # self.conv5 = nn.Conv2d(10, 10, 1)            #input - 7, Output 7, RF\n",
        "        self.gap = nn.AdaptiveAvgPool2d((1, 1))\n",
        "\n",
        "        self.dropout1 = nn.Dropout(0.1)\n",
        "        self.dropout2 = nn.Dropout(0.1)\n",
        "        self.dropout3 = nn.Dropout(0.1)\n",
        "        self.dropout4 = nn.Dropout(0.1)\n",
        "        self.dropout5 = nn.Dropout(0.1)\n",
        "\n",
        "    def forward(self, x):\n",
        "        x = F.relu(self.bn1(self.conv1(x)))\n",
        "        x = self.dropout1(x)\n",
        "        x = F.relu(self.bn2(self.conv2(x)))\n",
        "        x = self.dropout2(x)\n",
        "        x = F.relu(self.bn3(self.conv3(x)))\n",
        "        x = self.dropout3(x)\n",
        "\n",
        "        x = self.pool1(x)\n",
        "\n",
        "        x = F.relu(self.bn4(self.conv4(x)))\n",
        "        x = self.dropout4(x)\n",
        "        # x = F.relu(self.bn5(self.conv5(x)))\n",
        "        # x = self.dropout5(x)\n",
        "\n",
        "        # x = self.pool2(x)\n",
        "\n",
        "        x = F.relu(self.conv5(x))\n",
        "        x = self.gap(x)\n",
        "\n",
        "        x = x.view(-1, 10)\n",
        "        return F.log_softmax(x)\n",
        "\n",
        "Net = Net_12\n",
        "lr = 0.01\n",
        "\n",
        "%pip install torchsummary\n",
        "from torchsummary import summary\n",
        "use_cuda = torch.cuda.is_available()\n",
        "device = torch.device(\"cuda\" if use_cuda else \"cpu\")\n",
        "print(f'device: {device}')\n",
        "model = Net().to(device)\n",
        "summary(model, input_size=(1, 28, 28))\n",
        "\n",
        "\n",
        "#epoch: 10\n",
        "\n",
        "#Train set: Average loss: 0.0004, Accuracy: 98.60%\n",
        "#Test set: Average loss: 0.0691, Accuracy: 9774/10000 (97.74%)\n",
        "\n",
        "\n",
        "#epoch: 20\n",
        "#Train set: Average loss: 0.0003, Accuracy: 98.97%\n",
        "#Test set: Average loss: 0.0437, Accuracy: 9861/10000 (98.61%)\n",
        "\n",
        "\n",
        "\n",
        "\n"
      ],
      "metadata": {
        "colab": {
          "base_uri": "https://localhost:8080/"
        },
        "id": "eZ3gvbFBxn2e",
        "outputId": "6594e1d0-3edd-427a-b64a-ce7807f58e73"
      },
      "execution_count": 16,
      "outputs": [
        {
          "output_type": "stream",
          "name": "stdout",
          "text": [
            "Looking in indexes: https://pypi.org/simple, https://us-python.pkg.dev/colab-wheels/public/simple/\n",
            "Requirement already satisfied: torchsummary in /usr/local/lib/python3.10/dist-packages (1.5.1)\n",
            "device: cpu\n",
            "----------------------------------------------------------------\n",
            "        Layer (type)               Output Shape         Param #\n",
            "================================================================\n",
            "            Conv2d-1           [-1, 10, 26, 26]             100\n",
            "       BatchNorm2d-2           [-1, 10, 26, 26]              20\n",
            "           Dropout-3           [-1, 10, 26, 26]               0\n",
            "            Conv2d-4           [-1, 10, 24, 24]             910\n",
            "       BatchNorm2d-5           [-1, 10, 24, 24]              20\n",
            "           Dropout-6           [-1, 10, 24, 24]               0\n",
            "            Conv2d-7           [-1, 24, 22, 22]           2,184\n",
            "       BatchNorm2d-8           [-1, 24, 22, 22]              48\n",
            "           Dropout-9           [-1, 24, 22, 22]               0\n",
            "        MaxPool2d-10           [-1, 24, 11, 11]               0\n",
            "           Conv2d-11             [-1, 32, 9, 9]           6,944\n",
            "      BatchNorm2d-12             [-1, 32, 9, 9]              64\n",
            "          Dropout-13             [-1, 32, 9, 9]               0\n",
            "           Conv2d-14             [-1, 10, 7, 7]           2,890\n",
            "AdaptiveAvgPool2d-15             [-1, 10, 1, 1]               0\n",
            "================================================================\n",
            "Total params: 13,180\n",
            "Trainable params: 13,180\n",
            "Non-trainable params: 0\n",
            "----------------------------------------------------------------\n",
            "Input size (MB): 0.00\n",
            "Forward/backward pass size (MB): 0.64\n",
            "Params size (MB): 0.05\n",
            "Estimated Total Size (MB): 0.69\n",
            "----------------------------------------------------------------\n"
          ]
        },
        {
          "output_type": "stream",
          "name": "stderr",
          "text": [
            "<ipython-input-16-16647cc17dfc>:57: UserWarning: Implicit dimension choice for log_softmax has been deprecated. Change the call to include dim=X as an argument.\n",
            "  return F.log_softmax(x)\n"
          ]
        }
      ]
    },
    {
      "cell_type": "code",
      "source": [
        "# Add 10x10 after GAP\n",
        "\n",
        "class Net_13(nn.Module):\n",
        "    def __init__(self):\n",
        "        super(Net, self).__init__()\n",
        "        self.conv1 = nn.Conv2d(1, 10, 3, padding=0)   #input - 28, Output 26, RF\n",
        "        self.bn1 = nn.BatchNorm2d(10)\n",
        "        self.conv2 = nn.Conv2d(10, 10, 3, padding=0)   #input - 26, Output 24, RF\n",
        "        self.bn2 = nn.BatchNorm2d(10)\n",
        "        self.conv3 = nn.Conv2d(10, 24, 3, padding=0)   #input - 24, Output 22, RF\n",
        "        self.bn3 = nn.BatchNorm2d(24)\n",
        "\n",
        "        # self.conv2 = nn.Conv2d(32, 64, 3, padding=1)\n",
        "        # self.bn2 = nn.BatchNorm2d(64)\n",
        "        self.pool1 = nn.MaxPool2d(2, 2)\n",
        "\n",
        "        self.conv4 = nn.Conv2d(24, 32, 3, padding=0) #input - 11, Output 9, RF\n",
        "        self.bn4 = nn.BatchNorm2d(32)\n",
        "\n",
        "        self.conv5 = nn.Conv2d(32, 10, 3, padding=0) #input - 9, Output 7, RF\n",
        "        # self.bn3 = nn.BatchNorm2d(10)\n",
        "\n",
        "        # self.conv4 = nn.Conv2d(128, 256, 3, padding=1)\n",
        "        # self.bn4 = nn.BatchNorm2d(256)\n",
        "        # self.pool2 = nn.MaxPool2d(2, 2)\n",
        "\n",
        "        # self.conv5 = nn.Conv2d(10, 10, 1)            #input - 7, Output 7, RF\n",
        "        self.gap = nn.AdaptiveAvgPool2d((1, 1))\n",
        "        self.conv6 = nn.Conv2d(10, 10, 1)            #input - 7, Output 7, RF\n",
        "\n",
        "        self.dropout1 = nn.Dropout(0.1)\n",
        "        self.dropout2 = nn.Dropout(0.1)\n",
        "        self.dropout3 = nn.Dropout(0.1)\n",
        "        self.dropout4 = nn.Dropout(0.1)\n",
        "        self.dropout5 = nn.Dropout(0.1)\n",
        "\n",
        "    def forward(self, x):\n",
        "        x = F.relu(self.bn1(self.conv1(x)))\n",
        "        x = self.dropout1(x)\n",
        "        x = F.relu(self.bn2(self.conv2(x)))\n",
        "        x = self.dropout2(x)\n",
        "        x = F.relu(self.bn3(self.conv3(x)))\n",
        "        x = self.dropout3(x)\n",
        "\n",
        "        x = self.pool1(x)\n",
        "\n",
        "        x = F.relu(self.bn4(self.conv4(x)))\n",
        "        x = self.dropout4(x)\n",
        "        # x = F.relu(self.bn5(self.conv5(x)))\n",
        "        # x = self.dropout5(x)\n",
        "\n",
        "        # x = self.pool2(x)\n",
        "\n",
        "        x = F.relu(self.conv5(x))\n",
        "        x = self.gap(x)\n",
        "        x = self.conv6(x)\n",
        "\n",
        "        x = x.view(-1, 10)\n",
        "        return F.log_softmax(x)\n",
        "\n",
        "Net = Net_13\n",
        "lr = 0.01\n",
        "\n",
        "%pip install torchsummary\n",
        "from torchsummary import summary\n",
        "use_cuda = torch.cuda.is_available()\n",
        "device = torch.device(\"cuda\" if use_cuda else \"cpu\")\n",
        "print(f'device: {device}')\n",
        "model = Net().to(device)\n",
        "summary(model, input_size=(1, 28, 28))\n",
        "\n",
        "\n",
        "#epoch: 10\n",
        "#Train set: Average loss: 0.0004, Accuracy: 98.50%\n",
        "#Test set: Average loss: 0.0859, Accuracy: 9737/10000 (97.37%)\n",
        "\n",
        "#epoch: 20\n",
        "#Train set: Average loss: 0.0003, Accuracy: 98.98%\n",
        "#Test set: Average loss: 0.0546, Accuracy: 9827/10000 (98.27%)\n",
        "\n",
        "\n",
        "\n",
        "\n"
      ],
      "metadata": {
        "colab": {
          "base_uri": "https://localhost:8080/"
        },
        "id": "NljVRKEH8OHk",
        "outputId": "2d8c144e-a1ad-4a49-dae1-ddd1ca11ed37"
      },
      "execution_count": 17,
      "outputs": [
        {
          "output_type": "stream",
          "name": "stdout",
          "text": [
            "Looking in indexes: https://pypi.org/simple, https://us-python.pkg.dev/colab-wheels/public/simple/\n",
            "Requirement already satisfied: torchsummary in /usr/local/lib/python3.10/dist-packages (1.5.1)\n",
            "device: cpu\n",
            "----------------------------------------------------------------\n",
            "        Layer (type)               Output Shape         Param #\n",
            "================================================================\n",
            "            Conv2d-1           [-1, 10, 26, 26]             100\n",
            "       BatchNorm2d-2           [-1, 10, 26, 26]              20\n",
            "           Dropout-3           [-1, 10, 26, 26]               0\n",
            "            Conv2d-4           [-1, 10, 24, 24]             910\n",
            "       BatchNorm2d-5           [-1, 10, 24, 24]              20\n",
            "           Dropout-6           [-1, 10, 24, 24]               0\n",
            "            Conv2d-7           [-1, 24, 22, 22]           2,184\n",
            "       BatchNorm2d-8           [-1, 24, 22, 22]              48\n",
            "           Dropout-9           [-1, 24, 22, 22]               0\n",
            "        MaxPool2d-10           [-1, 24, 11, 11]               0\n",
            "           Conv2d-11             [-1, 32, 9, 9]           6,944\n",
            "      BatchNorm2d-12             [-1, 32, 9, 9]              64\n",
            "          Dropout-13             [-1, 32, 9, 9]               0\n",
            "           Conv2d-14             [-1, 10, 7, 7]           2,890\n",
            "AdaptiveAvgPool2d-15             [-1, 10, 1, 1]               0\n",
            "           Conv2d-16             [-1, 10, 1, 1]             110\n",
            "================================================================\n",
            "Total params: 13,290\n",
            "Trainable params: 13,290\n",
            "Non-trainable params: 0\n",
            "----------------------------------------------------------------\n",
            "Input size (MB): 0.00\n",
            "Forward/backward pass size (MB): 0.64\n",
            "Params size (MB): 0.05\n",
            "Estimated Total Size (MB): 0.69\n",
            "----------------------------------------------------------------\n"
          ]
        },
        {
          "output_type": "stream",
          "name": "stderr",
          "text": [
            "<ipython-input-17-390af307079f>:59: UserWarning: Implicit dimension choice for log_softmax has been deprecated. Change the call to include dim=X as an argument.\n",
            "  return F.log_softmax(x)\n"
          ]
        }
      ]
    },
    {
      "cell_type": "code",
      "source": [
        "# lower pool layer loc\n",
        "\n",
        "class Net_14(nn.Module):\n",
        "    def __init__(self):\n",
        "        super(Net, self).__init__()\n",
        "        self.conv1 = nn.Conv2d(1, 10, 3, padding=0)   #input - 28, Output 26, RF\n",
        "        self.bn1 = nn.BatchNorm2d(10)\n",
        "        self.conv2 = nn.Conv2d(10, 10, 3, padding=0)   #input - 26, Output 24, RF\n",
        "        self.bn2 = nn.BatchNorm2d(10)\n",
        "\n",
        "        self.pool1 = nn.MaxPool2d(2, 2)\n",
        "\n",
        "        self.conv3 = nn.Conv2d(10, 24, 3, padding=0)   #input - 24, Output 22, RF\n",
        "        self.bn3 = nn.BatchNorm2d(24)\n",
        "\n",
        "\n",
        "        self.conv4 = nn.Conv2d(24, 32, 3, padding=0) #input - 11, Output 9, RF\n",
        "        self.bn4 = nn.BatchNorm2d(32)\n",
        "\n",
        "        self.conv5 = nn.Conv2d(32, 10, 3, padding=0) #input - 9, Output 7, RF\n",
        "        self.gap = nn.AdaptiveAvgPool2d((1, 1))\n",
        "        self.conv6 = nn.Conv2d(10, 10, 1)            #input - 7, Output 7, RF\n",
        "\n",
        "        self.dropout1 = nn.Dropout(0.1)\n",
        "        self.dropout2 = nn.Dropout(0.1)\n",
        "        self.dropout3 = nn.Dropout(0.1)\n",
        "        self.dropout4 = nn.Dropout(0.1)\n",
        "        self.dropout5 = nn.Dropout(0.1)\n",
        "\n",
        "    def forward(self, x):\n",
        "        x = F.relu(self.bn1(self.conv1(x)))\n",
        "        x = self.dropout1(x)\n",
        "        x = F.relu(self.bn2(self.conv2(x)))\n",
        "        x = self.dropout2(x)\n",
        "\n",
        "        x = self.pool1(x)\n",
        "\n",
        "        x = F.relu(self.bn3(self.conv3(x)))\n",
        "        x = self.dropout3(x)\n",
        "\n",
        "\n",
        "\n",
        "        x = F.relu(self.bn4(self.conv4(x)))\n",
        "        x = self.dropout4(x)\n",
        "\n",
        "        x = F.relu(self.conv5(x))\n",
        "        x = self.gap(x)\n",
        "        x = self.conv6(x)\n",
        "\n",
        "        x = x.view(-1, 10)\n",
        "        return F.log_softmax(x)\n",
        "\n",
        "Net = Net_14\n",
        "lr = 0.01\n",
        "\n",
        "%pip install torchsummary\n",
        "from torchsummary import summary\n",
        "use_cuda = torch.cuda.is_available()\n",
        "device = torch.device(\"cuda\" if use_cuda else \"cpu\")\n",
        "print(f'device: {device}')\n",
        "model = Net().to(device)\n",
        "summary(model, input_size=(1, 28, 28))\n",
        "\n",
        "\n",
        "#epoch: 10\n",
        "#Train set: Average loss: 0.0002, Accuracy: 99.25%\n",
        "#Test set: Average loss: 0.0222, Accuracy: 9933/10000 (99.33%)\n",
        "\n",
        "#epoch: 20\n",
        "#Train set: Average loss: 0.0002, Accuracy: 99.40%\n",
        "#Test set: Average loss: 0.0213, Accuracy: 9935/10000 (99.35%)\n",
        "\n",
        "\n",
        "\n",
        "\n"
      ],
      "metadata": {
        "colab": {
          "base_uri": "https://localhost:8080/"
        },
        "id": "vpFizrSXAoQ9",
        "outputId": "d9f4f205-6f92-42fc-f2bc-08863ff09a11"
      },
      "execution_count": 22,
      "outputs": [
        {
          "output_type": "stream",
          "name": "stdout",
          "text": [
            "Looking in indexes: https://pypi.org/simple, https://us-python.pkg.dev/colab-wheels/public/simple/\n",
            "Requirement already satisfied: torchsummary in /usr/local/lib/python3.10/dist-packages (1.5.1)\n",
            "device: cpu\n",
            "----------------------------------------------------------------\n",
            "        Layer (type)               Output Shape         Param #\n",
            "================================================================\n",
            "            Conv2d-1           [-1, 10, 26, 26]             100\n",
            "       BatchNorm2d-2           [-1, 10, 26, 26]              20\n",
            "           Dropout-3           [-1, 10, 26, 26]               0\n",
            "            Conv2d-4           [-1, 10, 24, 24]             910\n",
            "       BatchNorm2d-5           [-1, 10, 24, 24]              20\n",
            "           Dropout-6           [-1, 10, 24, 24]               0\n",
            "         MaxPool2d-7           [-1, 10, 12, 12]               0\n",
            "            Conv2d-8           [-1, 24, 10, 10]           2,184\n",
            "       BatchNorm2d-9           [-1, 24, 10, 10]              48\n",
            "          Dropout-10           [-1, 24, 10, 10]               0\n",
            "           Conv2d-11             [-1, 32, 8, 8]           6,944\n",
            "      BatchNorm2d-12             [-1, 32, 8, 8]              64\n",
            "          Dropout-13             [-1, 32, 8, 8]               0\n",
            "           Conv2d-14             [-1, 10, 6, 6]           2,890\n",
            "AdaptiveAvgPool2d-15             [-1, 10, 1, 1]               0\n",
            "           Conv2d-16             [-1, 10, 1, 1]             110\n",
            "================================================================\n",
            "Total params: 13,290\n",
            "Trainable params: 13,290\n",
            "Non-trainable params: 0\n",
            "----------------------------------------------------------------\n",
            "Input size (MB): 0.00\n",
            "Forward/backward pass size (MB): 0.40\n",
            "Params size (MB): 0.05\n",
            "Estimated Total Size (MB): 0.46\n",
            "----------------------------------------------------------------\n"
          ]
        },
        {
          "output_type": "stream",
          "name": "stderr",
          "text": [
            "<ipython-input-22-a71f195200ce>:51: UserWarning: Implicit dimension choice for log_softmax has been deprecated. Change the call to include dim=X as an argument.\n",
            "  return F.log_softmax(x)\n"
          ]
        }
      ]
    },
    {
      "cell_type": "code",
      "source": [],
      "metadata": {
        "id": "tEHUEhkcK3kL"
      },
      "execution_count": 18,
      "outputs": []
    },
    {
      "cell_type": "code",
      "metadata": {
        "id": "MMWbLWO6FuHb",
        "colab": {
          "base_uri": "https://localhost:8080/"
        },
        "outputId": "e0363fbd-6bcb-414b-824f-014fd06ed245"
      },
      "source": [
        "optimizer = optim.SGD(model.parameters(), lr=lr, momentum=0.9)\n",
        "\n",
        "for epoch in range(1, 26):\n",
        "    print(f'#epoch: {epoch}')\n",
        "    print(f'#lr: {optimizer.param_groups[0][\"lr\"]}')\n",
        "    train(model, device, train_loader, optimizer, epoch)\n",
        "    test(model, device, test_loader)\n"
      ],
      "execution_count": 23,
      "outputs": [
        {
          "output_type": "stream",
          "name": "stdout",
          "text": [
            "#epoch: 1\n",
            "#lr: 0.01\n"
          ]
        },
        {
          "output_type": "stream",
          "name": "stderr",
          "text": [
            "\r  0%|          | 0/469 [00:00<?, ?it/s]<ipython-input-22-a71f195200ce>:51: UserWarning: Implicit dimension choice for log_softmax has been deprecated. Change the call to include dim=X as an argument.\n",
            "  return F.log_softmax(x)\n",
            "loss=0.17149664461612701 batch_id=468: 100%|██████████| 469/469 [01:24<00:00,  5.58it/s]\n"
          ]
        },
        {
          "output_type": "stream",
          "name": "stdout",
          "text": [
            "\n",
            "#Train set: Average loss: 0.0056, Accuracy: 75.91%\n",
            "#Test set: Average loss: 0.2389, Accuracy: 9267/10000 (92.67%)\n",
            "\n",
            "#epoch: 2\n",
            "#lr: 0.01\n"
          ]
        },
        {
          "output_type": "stream",
          "name": "stderr",
          "text": [
            "loss=0.12845025956630707 batch_id=468: 100%|██████████| 469/469 [01:10<00:00,  6.65it/s]\n"
          ]
        },
        {
          "output_type": "stream",
          "name": "stdout",
          "text": [
            "\n",
            "#Train set: Average loss: 0.0008, Accuracy: 96.78%\n",
            "#Test set: Average loss: 0.0589, Accuracy: 9844/10000 (98.44%)\n",
            "\n",
            "#epoch: 3\n",
            "#lr: 0.01\n"
          ]
        },
        {
          "output_type": "stream",
          "name": "stderr",
          "text": [
            "loss=0.046108122915029526 batch_id=468: 100%|██████████| 469/469 [01:09<00:00,  6.78it/s]\n"
          ]
        },
        {
          "output_type": "stream",
          "name": "stdout",
          "text": [
            "\n",
            "#Train set: Average loss: 0.0006, Accuracy: 97.67%\n",
            "#Test set: Average loss: 0.0583, Accuracy: 9827/10000 (98.27%)\n",
            "\n",
            "#epoch: 4\n",
            "#lr: 0.01\n"
          ]
        },
        {
          "output_type": "stream",
          "name": "stderr",
          "text": [
            "loss=0.06796679645776749 batch_id=468: 100%|██████████| 469/469 [01:08<00:00,  6.80it/s]\n"
          ]
        },
        {
          "output_type": "stream",
          "name": "stdout",
          "text": [
            "\n",
            "#Train set: Average loss: 0.0005, Accuracy: 98.10%\n",
            "#Test set: Average loss: 0.0616, Accuracy: 9812/10000 (98.12%)\n",
            "\n",
            "#epoch: 5\n",
            "#lr: 0.01\n"
          ]
        },
        {
          "output_type": "stream",
          "name": "stderr",
          "text": [
            "loss=0.13683053851127625 batch_id=468: 100%|██████████| 469/469 [01:11<00:00,  6.60it/s]\n"
          ]
        },
        {
          "output_type": "stream",
          "name": "stdout",
          "text": [
            "\n",
            "#Train set: Average loss: 0.0004, Accuracy: 98.36%\n",
            "#Test set: Average loss: 0.0449, Accuracy: 9853/10000 (98.53%)\n",
            "\n",
            "#epoch: 6\n",
            "#lr: 0.01\n"
          ]
        },
        {
          "output_type": "stream",
          "name": "stderr",
          "text": [
            "loss=0.11374438554048538 batch_id=468: 100%|██████████| 469/469 [01:17<00:00,  6.01it/s]\n"
          ]
        },
        {
          "output_type": "stream",
          "name": "stdout",
          "text": [
            "\n",
            "#Train set: Average loss: 0.0004, Accuracy: 98.47%\n",
            "#Test set: Average loss: 0.0355, Accuracy: 9892/10000 (98.92%)\n",
            "\n",
            "#epoch: 7\n",
            "#lr: 0.01\n"
          ]
        },
        {
          "output_type": "stream",
          "name": "stderr",
          "text": [
            "loss=0.013269026763737202 batch_id=468: 100%|██████████| 469/469 [01:16<00:00,  6.14it/s]\n"
          ]
        },
        {
          "output_type": "stream",
          "name": "stdout",
          "text": [
            "\n",
            "#Train set: Average loss: 0.0004, Accuracy: 98.58%\n",
            "#Test set: Average loss: 0.0307, Accuracy: 9904/10000 (99.04%)\n",
            "\n",
            "#epoch: 8\n",
            "#lr: 0.01\n"
          ]
        },
        {
          "output_type": "stream",
          "name": "stderr",
          "text": [
            "loss=0.0186310987919569 batch_id=468: 100%|██████████| 469/469 [01:09<00:00,  6.80it/s]\n"
          ]
        },
        {
          "output_type": "stream",
          "name": "stdout",
          "text": [
            "\n",
            "#Train set: Average loss: 0.0003, Accuracy: 98.67%\n",
            "#Test set: Average loss: 0.0305, Accuracy: 9905/10000 (99.05%)\n",
            "\n",
            "#epoch: 9\n",
            "#lr: 0.01\n"
          ]
        },
        {
          "output_type": "stream",
          "name": "stderr",
          "text": [
            "loss=0.05615304410457611 batch_id=468: 100%|██████████| 469/469 [01:10<00:00,  6.69it/s]\n"
          ]
        },
        {
          "output_type": "stream",
          "name": "stdout",
          "text": [
            "\n",
            "#Train set: Average loss: 0.0003, Accuracy: 98.76%\n",
            "#Test set: Average loss: 0.0295, Accuracy: 9912/10000 (99.12%)\n",
            "\n",
            "#epoch: 10\n",
            "#lr: 0.01\n"
          ]
        },
        {
          "output_type": "stream",
          "name": "stderr",
          "text": [
            "loss=0.021219931542873383 batch_id=468: 100%|██████████| 469/469 [01:09<00:00,  6.74it/s]\n"
          ]
        },
        {
          "output_type": "stream",
          "name": "stdout",
          "text": [
            "\n",
            "#Train set: Average loss: 0.0003, Accuracy: 98.85%\n",
            "#Test set: Average loss: 0.0379, Accuracy: 9880/10000 (98.80%)\n",
            "\n",
            "#epoch: 11\n",
            "#lr: 0.01\n"
          ]
        },
        {
          "output_type": "stream",
          "name": "stderr",
          "text": [
            "loss=0.06390398740768433 batch_id=468: 100%|██████████| 469/469 [01:09<00:00,  6.77it/s]\n"
          ]
        },
        {
          "output_type": "stream",
          "name": "stdout",
          "text": [
            "\n",
            "#Train set: Average loss: 0.0003, Accuracy: 98.82%\n",
            "#Test set: Average loss: 0.0313, Accuracy: 9898/10000 (98.98%)\n",
            "\n",
            "#epoch: 12\n",
            "#lr: 0.01\n"
          ]
        },
        {
          "output_type": "stream",
          "name": "stderr",
          "text": [
            "loss=0.020557919517159462 batch_id=468: 100%|██████████| 469/469 [01:09<00:00,  6.79it/s]\n"
          ]
        },
        {
          "output_type": "stream",
          "name": "stdout",
          "text": [
            "\n",
            "#Train set: Average loss: 0.0003, Accuracy: 98.94%\n",
            "#Test set: Average loss: 0.0301, Accuracy: 9903/10000 (99.03%)\n",
            "\n",
            "#epoch: 13\n",
            "#lr: 0.01\n"
          ]
        },
        {
          "output_type": "stream",
          "name": "stderr",
          "text": [
            "loss=0.019304051995277405 batch_id=468: 100%|██████████| 469/469 [01:10<00:00,  6.64it/s]\n"
          ]
        },
        {
          "output_type": "stream",
          "name": "stdout",
          "text": [
            "\n",
            "#Train set: Average loss: 0.0003, Accuracy: 98.88%\n",
            "#Test set: Average loss: 0.0295, Accuracy: 9907/10000 (99.07%)\n",
            "\n",
            "#epoch: 14\n",
            "#lr: 0.01\n"
          ]
        },
        {
          "output_type": "stream",
          "name": "stderr",
          "text": [
            "loss=0.004407183732837439 batch_id=468: 100%|██████████| 469/469 [01:08<00:00,  6.83it/s]\n"
          ]
        },
        {
          "output_type": "stream",
          "name": "stdout",
          "text": [
            "\n",
            "#Train set: Average loss: 0.0003, Accuracy: 98.93%\n",
            "#Test set: Average loss: 0.0289, Accuracy: 9908/10000 (99.08%)\n",
            "\n",
            "#epoch: 15\n",
            "#lr: 0.01\n"
          ]
        },
        {
          "output_type": "stream",
          "name": "stderr",
          "text": [
            "loss=0.015684382990002632 batch_id=468: 100%|██████████| 469/469 [01:10<00:00,  6.69it/s]\n"
          ]
        },
        {
          "output_type": "stream",
          "name": "stdout",
          "text": [
            "\n",
            "#Train set: Average loss: 0.0002, Accuracy: 99.07%\n",
            "#Test set: Average loss: 0.0249, Accuracy: 9922/10000 (99.22%)\n",
            "\n",
            "#epoch: 16\n",
            "#lr: 0.01\n"
          ]
        },
        {
          "output_type": "stream",
          "name": "stderr",
          "text": [
            "loss=0.06156836450099945 batch_id=468: 100%|██████████| 469/469 [01:12<00:00,  6.44it/s]\n"
          ]
        },
        {
          "output_type": "stream",
          "name": "stdout",
          "text": [
            "\n",
            "#Train set: Average loss: 0.0002, Accuracy: 98.99%\n",
            "#Test set: Average loss: 0.0245, Accuracy: 9919/10000 (99.19%)\n",
            "\n",
            "#epoch: 17\n",
            "#lr: 0.01\n"
          ]
        },
        {
          "output_type": "stream",
          "name": "stderr",
          "text": [
            "loss=0.08376384526491165 batch_id=468: 100%|██████████| 469/469 [01:09<00:00,  6.77it/s]\n"
          ]
        },
        {
          "output_type": "stream",
          "name": "stdout",
          "text": [
            "\n",
            "#Train set: Average loss: 0.0002, Accuracy: 99.02%\n",
            "#Test set: Average loss: 0.0306, Accuracy: 9905/10000 (99.05%)\n",
            "\n",
            "#epoch: 18\n",
            "#lr: 0.01\n"
          ]
        },
        {
          "output_type": "stream",
          "name": "stderr",
          "text": [
            "loss=0.012231935746967793 batch_id=468: 100%|██████████| 469/469 [01:09<00:00,  6.70it/s]\n"
          ]
        },
        {
          "output_type": "stream",
          "name": "stdout",
          "text": [
            "\n",
            "#Train set: Average loss: 0.0002, Accuracy: 99.06%\n",
            "#Test set: Average loss: 0.0305, Accuracy: 9900/10000 (99.00%)\n",
            "\n",
            "#epoch: 19\n",
            "#lr: 0.01\n"
          ]
        },
        {
          "output_type": "stream",
          "name": "stderr",
          "text": [
            "loss=0.011535379104316235 batch_id=468: 100%|██████████| 469/469 [01:09<00:00,  6.76it/s]\n"
          ]
        },
        {
          "output_type": "stream",
          "name": "stdout",
          "text": [
            "\n",
            "#Train set: Average loss: 0.0002, Accuracy: 99.16%\n",
            "#Test set: Average loss: 0.0248, Accuracy: 9913/10000 (99.13%)\n",
            "\n",
            "#epoch: 20\n",
            "#lr: 0.01\n"
          ]
        },
        {
          "output_type": "stream",
          "name": "stderr",
          "text": [
            "loss=0.03796766325831413 batch_id=468: 100%|██████████| 469/469 [01:09<00:00,  6.75it/s]\n"
          ]
        },
        {
          "output_type": "stream",
          "name": "stdout",
          "text": [
            "\n",
            "#Train set: Average loss: 0.0002, Accuracy: 99.14%\n",
            "#Test set: Average loss: 0.0319, Accuracy: 9900/10000 (99.00%)\n",
            "\n",
            "#epoch: 21\n",
            "#lr: 0.01\n"
          ]
        },
        {
          "output_type": "stream",
          "name": "stderr",
          "text": [
            "loss=0.00493848230689764 batch_id=468: 100%|██████████| 469/469 [01:09<00:00,  6.72it/s]\n"
          ]
        },
        {
          "output_type": "stream",
          "name": "stdout",
          "text": [
            "\n",
            "#Train set: Average loss: 0.0002, Accuracy: 99.14%\n",
            "#Test set: Average loss: 0.0223, Accuracy: 9926/10000 (99.26%)\n",
            "\n",
            "#epoch: 22\n",
            "#lr: 0.01\n"
          ]
        },
        {
          "output_type": "stream",
          "name": "stderr",
          "text": [
            "loss=0.048362310975790024 batch_id=468: 100%|██████████| 469/469 [01:09<00:00,  6.76it/s]\n"
          ]
        },
        {
          "output_type": "stream",
          "name": "stdout",
          "text": [
            "\n",
            "#Train set: Average loss: 0.0002, Accuracy: 99.24%\n",
            "#Test set: Average loss: 0.0255, Accuracy: 9915/10000 (99.15%)\n",
            "\n",
            "#epoch: 23\n",
            "#lr: 0.01\n"
          ]
        },
        {
          "output_type": "stream",
          "name": "stderr",
          "text": [
            "loss=0.027174487709999084 batch_id=468: 100%|██████████| 469/469 [01:09<00:00,  6.74it/s]\n"
          ]
        },
        {
          "output_type": "stream",
          "name": "stdout",
          "text": [
            "\n",
            "#Train set: Average loss: 0.0002, Accuracy: 99.19%\n",
            "#Test set: Average loss: 0.0232, Accuracy: 9927/10000 (99.27%)\n",
            "\n",
            "#epoch: 24\n",
            "#lr: 0.01\n"
          ]
        },
        {
          "output_type": "stream",
          "name": "stderr",
          "text": [
            "loss=0.014543086290359497 batch_id=468: 100%|██████████| 469/469 [01:09<00:00,  6.78it/s]\n"
          ]
        },
        {
          "output_type": "stream",
          "name": "stdout",
          "text": [
            "\n",
            "#Train set: Average loss: 0.0002, Accuracy: 99.23%\n",
            "#Test set: Average loss: 0.0229, Accuracy: 9922/10000 (99.22%)\n",
            "\n",
            "#epoch: 25\n",
            "#lr: 0.01\n"
          ]
        },
        {
          "output_type": "stream",
          "name": "stderr",
          "text": [
            "loss=0.004397212993353605 batch_id=468: 100%|██████████| 469/469 [01:10<00:00,  6.70it/s]\n"
          ]
        },
        {
          "output_type": "stream",
          "name": "stdout",
          "text": [
            "\n",
            "#Train set: Average loss: 0.0002, Accuracy: 99.25%\n",
            "#Test set: Average loss: 0.0217, Accuracy: 9930/10000 (99.30%)\n",
            "\n"
          ]
        }
      ]
    },
    {
      "cell_type": "code",
      "source": [],
      "metadata": {
        "id": "3f0CiEWY2VDY"
      },
      "execution_count": null,
      "outputs": []
    },
    {
      "cell_type": "code",
      "metadata": {
        "id": "So5uk4EkHW6R"
      },
      "source": [],
      "execution_count": null,
      "outputs": []
    }
  ]
}