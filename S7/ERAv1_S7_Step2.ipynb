{
  "cells": [
    {
      "cell_type": "code",
      "execution_count": 1,
      "metadata": {
        "id": "cUIesV-HK1M2"
      },
      "outputs": [],
      "source": [
        "# STEP 2:\n",
        "\n",
        "\"\"\"\n",
        "Target:\n",
        "The goal in this step is to add data augmentations, and to reduce to <8k params.\n",
        "\n",
        "\n",
        "Result:\n",
        "Random rotation was added.\n",
        "Small fixes to StepLR params were made\n",
        "\n",
        "num params: 7.5k\n",
        "train accuracy: 99.06\n",
        "test accuracy: 99.33\n",
        "\n",
        "\n",
        "Analysis:\n",
        "Training accuracy reduced as expected.\n",
        "Now test accuracy > train accuracy\n",
        "\n",
        "Accuracy is not improving though.\n",
        "Remaining stable after 10th epoch\n",
        "\n",
        "\"\"\"\n",
        "\n",
        "\n"
      ]
    },
    {
      "cell_type": "code",
      "execution_count": null,
      "metadata": {
        "id": "ZpWtlrd-M1Dr"
      },
      "outputs": [],
      "source": [
        "from __future__ import print_function\n",
        "import torch\n",
        "import torch.nn as nn\n",
        "import torch.nn.functional as F\n",
        "import torch.optim as optim\n",
        "from torchvision import datasets, transforms\n",
        "\n",
        "from torch.optim.lr_scheduler import StepLR, OneCycleLR\n"
      ]
    },
    {
      "cell_type": "code",
      "execution_count": null,
      "metadata": {
        "id": "8J3NNeG-LFAx"
      },
      "outputs": [],
      "source": [
        "from tqdm import tqdm\n",
        "def train(model, device, train_loader, optimizer, epoch):\n",
        "    model.train()\n",
        "    pbar = tqdm(train_loader)\n",
        "    correct = 0\n",
        "    train_loss = 0\n",
        "    for batch_idx, (data, target) in enumerate(pbar):\n",
        "        data, target = data.to(device), target.to(device)\n",
        "        optimizer.zero_grad()\n",
        "        output = model(data)\n",
        "        loss = F.nll_loss(output, target)\n",
        "        loss.backward()\n",
        "        optimizer.step()\n",
        "        train_loss += loss.item()\n",
        "\n",
        "        pred = output.argmax(dim=1, keepdim=True)  # get the index of the max log-probability\n",
        "        correct += pred.eq(target.view_as(pred)).sum().item()\n",
        "\n",
        "        pbar.set_description(desc= f'loss={loss.item()} batch_id={batch_idx}')\n",
        "\n",
        "    train_loss /= len(train_loader.dataset)\n",
        "\n",
        "    print('\\n#Train set: Average loss: {:.4f}, Accuracy: {:.2f}%'.format(\n",
        "        train_loss,\n",
        "        100. * correct / len(train_loader.dataset)))\n",
        "\n",
        "\n",
        "def test(model, device, test_loader):\n",
        "    model.eval()\n",
        "    test_loss = 0\n",
        "    correct = 0\n",
        "    with torch.no_grad():\n",
        "        for data, target in test_loader:\n",
        "            data, target = data.to(device), target.to(device)\n",
        "            output = model(data)\n",
        "            test_loss += F.nll_loss(output, target, reduction='sum').item()  # sum up batch loss\n",
        "            pred = output.argmax(dim=1, keepdim=True)  # get the index of the max log-probability\n",
        "            correct += pred.eq(target.view_as(pred)).sum().item()\n",
        "\n",
        "    test_loss /= len(test_loader.dataset)\n",
        "\n",
        "    print('#Test set: Average loss: {:.4f}, Accuracy: {}/{} ({:.2f}%)\\n'.format(\n",
        "        test_loss, correct, len(test_loader.dataset),\n",
        "        100. * correct / len(test_loader.dataset)))"
      ]
    },
    {
      "cell_type": "code",
      "execution_count": null,
      "metadata": {
        "colab": {
          "base_uri": "https://localhost:8080/"
        },
        "id": "cC7dl6vZK5RO",
        "outputId": "ea143362-db88-4032-cfd8-7ec021cdfb87"
      },
      "outputs": [
        {
          "name": "stdout",
          "output_type": "stream",
          "text": [
            "device: cpu\n",
            "Num images in train: 60000\n"
          ]
        }
      ],
      "source": [
        "use_cuda = torch.cuda.is_available()\n",
        "device = torch.device(\"cuda\" if use_cuda else \"cpu\")\n",
        "print(f'device: {device}')\n",
        "\n",
        "torch.manual_seed(1)\n",
        "batch_size = 128\n",
        "lr=0.01\n",
        "\n",
        "kwargs = {'num_workers': 1, 'pin_memory': True} if use_cuda else {}\n",
        "train_loader = torch.utils.data.DataLoader(\n",
        "    datasets.MNIST('../data', train=True, download=True,\n",
        "                    transform=transforms.Compose([\n",
        "                        transforms.RandomRotation((-7, 7), fill=(1,)),\n",
        "                        transforms.ToTensor(),\n",
        "                        transforms.Normalize((0.1307,), (0.3081,))\n",
        "                    ])),\n",
        "    batch_size=batch_size, shuffle=True, **kwargs)\n",
        "\n",
        "test_loader = torch.utils.data.DataLoader(\n",
        "    datasets.MNIST('../data', train=False, transform=transforms.Compose([\n",
        "                        transforms.ToTensor(),\n",
        "                        transforms.Normalize((0.1307,), (0.3081,))\n",
        "                    ])),\n",
        "    batch_size=batch_size, shuffle=True, **kwargs)\n",
        "\n",
        "print(f'Num images in train: {len(train_loader.dataset)}')"
      ]
    },
    {
      "cell_type": "code",
      "execution_count": null,
      "metadata": {
        "id": "lnRi-_uTLCia"
      },
      "outputs": [],
      "source": []
    },
    {
      "cell_type": "code",
      "execution_count": null,
      "metadata": {
        "colab": {
          "base_uri": "https://localhost:8080/"
        },
        "id": "U7F9l4oQK5lO",
        "outputId": "deb27cdf-457c-4074-e9f5-43c46511cb2e"
      },
      "outputs": [
        {
          "name": "stdout",
          "output_type": "stream",
          "text": [
            "Looking in indexes: https://pypi.org/simple, https://us-python.pkg.dev/colab-wheels/public/simple/\n",
            "Requirement already satisfied: torchsummary in /usr/local/lib/python3.10/dist-packages (1.5.1)\n",
            "device: cpu\n",
            "----------------------------------------------------------------\n",
            "        Layer (type)               Output Shape         Param #\n",
            "================================================================\n",
            "            Conv2d-1           [-1, 10, 26, 26]             100\n",
            "       BatchNorm2d-2           [-1, 10, 26, 26]              20\n",
            "           Dropout-3           [-1, 10, 26, 26]               0\n",
            "            Conv2d-4           [-1, 10, 24, 24]             910\n",
            "       BatchNorm2d-5           [-1, 10, 24, 24]              20\n",
            "           Dropout-6           [-1, 10, 24, 24]               0\n",
            "         MaxPool2d-7           [-1, 10, 12, 12]               0\n",
            "            Conv2d-8           [-1, 24, 10, 10]           2,184\n",
            "       BatchNorm2d-9           [-1, 24, 10, 10]              48\n",
            "          Dropout-10           [-1, 24, 10, 10]               0\n",
            "           Conv2d-11             [-1, 32, 8, 8]           6,944\n",
            "      BatchNorm2d-12             [-1, 32, 8, 8]              64\n",
            "          Dropout-13             [-1, 32, 8, 8]               0\n",
            "           Conv2d-14             [-1, 10, 6, 6]           2,890\n",
            "AdaptiveAvgPool2d-15             [-1, 10, 1, 1]               0\n",
            "           Conv2d-16             [-1, 10, 1, 1]             110\n",
            "================================================================\n",
            "Total params: 13,290\n",
            "Trainable params: 13,290\n",
            "Non-trainable params: 0\n",
            "----------------------------------------------------------------\n",
            "Input size (MB): 0.00\n",
            "Forward/backward pass size (MB): 0.40\n",
            "Params size (MB): 0.05\n",
            "Estimated Total Size (MB): 0.46\n",
            "----------------------------------------------------------------\n"
          ]
        },
        {
          "name": "stderr",
          "output_type": "stream",
          "text": [
            "<ipython-input-14-4ac50ce3d6ae>:51: UserWarning: Implicit dimension choice for log_softmax has been deprecated. Change the call to include dim=X as an argument.\n",
            "  return F.log_softmax(x)\n"
          ]
        }
      ],
      "source": [
        "# From step 1 (change gamma to 0.333)\n",
        "\n",
        "class Net_14(nn.Module):\n",
        "    def __init__(self):\n",
        "        super(Net, self).__init__()\n",
        "        self.conv1 = nn.Conv2d(1, 10, 3, padding=0)   #input - 28, Output 26, RF\n",
        "        self.bn1 = nn.BatchNorm2d(10)\n",
        "        self.conv2 = nn.Conv2d(10, 10, 3, padding=0)   #input - 26, Output 24, RF\n",
        "        self.bn2 = nn.BatchNorm2d(10)\n",
        "\n",
        "        self.pool1 = nn.MaxPool2d(2, 2)\n",
        "\n",
        "        self.conv3 = nn.Conv2d(10, 24, 3, padding=0)   #input - 24, Output 22, RF\n",
        "        self.bn3 = nn.BatchNorm2d(24)\n",
        "\n",
        "        self.conv4 = nn.Conv2d(24, 32, 3, padding=0) #input - 11, Output 9, RF\n",
        "        self.bn4 = nn.BatchNorm2d(32)\n",
        "\n",
        "        self.conv5 = nn.Conv2d(32, 10, 3, padding=0) #input - 9, Output 7, RF\n",
        "\n",
        "        self.gap = nn.AdaptiveAvgPool2d((1, 1))\n",
        "        self.conv6 = nn.Conv2d(10, 10, 1)            #input - 7, Output 7, RF\n",
        "\n",
        "        self.dropout1 = nn.Dropout(0.1)\n",
        "        self.dropout2 = nn.Dropout(0.1)\n",
        "        self.dropout3 = nn.Dropout(0.1)\n",
        "        self.dropout4 = nn.Dropout(0.1)\n",
        "        self.dropout5 = nn.Dropout(0.1)\n",
        "\n",
        "    def forward(self, x):\n",
        "        x = F.relu(self.bn1(self.conv1(x)))\n",
        "        x = self.dropout1(x)\n",
        "        x = F.relu(self.bn2(self.conv2(x)))\n",
        "        x = self.dropout2(x)\n",
        "\n",
        "        x = self.pool1(x)\n",
        "\n",
        "        x = F.relu(self.bn3(self.conv3(x)))\n",
        "        x = self.dropout3(x)\n",
        "\n",
        "\n",
        "\n",
        "        x = F.relu(self.bn4(self.conv4(x)))\n",
        "        x = self.dropout4(x)\n",
        "\n",
        "        x = F.relu(self.conv5(x))\n",
        "        x = self.gap(x)\n",
        "        x = self.conv6(x)\n",
        "\n",
        "        x = x.view(-1, 10)\n",
        "        return F.log_softmax(x)\n",
        "\n",
        "Net = Net_14\n",
        "lr = 0.1\n",
        "step_size = 5\n",
        "gamma = 1./3\n",
        "\n",
        "%pip install torchsummary\n",
        "from torchsummary import summary\n",
        "use_cuda = torch.cuda.is_available()\n",
        "device = torch.device(\"cuda\" if use_cuda else \"cpu\")\n",
        "print(f'device: {device}')\n",
        "model = Net().to(device)\n",
        "summary(model, input_size=(1, 28, 28))\n",
        "\n",
        "\n",
        "#epoch: 10\n",
        "#Train set: Average loss: 0.0002, Accuracy: 99.08%\n",
        "#Test set: Average loss: 0.0209, Accuracy: 9932/10000 (99.32%)\n",
        "\n",
        "#epoch: 20\n",
        "#Train set: Average loss: 0.0002, Accuracy: 99.31%\n",
        "#Test set: Average loss: 0.0181, Accuracy: 9935/10000 (99.35%)\n",
        "\n",
        "\n",
        "\n"
      ]
    },
    {
      "cell_type": "code",
      "execution_count": null,
      "metadata": {
        "colab": {
          "base_uri": "https://localhost:8080/"
        },
        "id": "nV_oCkkCs2vr",
        "outputId": "3eb49664-155f-4c12-eda9-92badc2fefc5"
      },
      "outputs": [
        {
          "name": "stdout",
          "output_type": "stream",
          "text": [
            "Looking in indexes: https://pypi.org/simple, https://us-python.pkg.dev/colab-wheels/public/simple/\n",
            "Requirement already satisfied: torchsummary in /usr/local/lib/python3.10/dist-packages (1.5.1)\n",
            "device: cpu\n",
            "----------------------------------------------------------------\n",
            "        Layer (type)               Output Shape         Param #\n",
            "================================================================\n",
            "            Conv2d-1           [-1, 16, 26, 26]             160\n",
            "       BatchNorm2d-2           [-1, 16, 26, 26]              32\n",
            "           Dropout-3           [-1, 16, 26, 26]               0\n",
            "            Conv2d-4           [-1, 16, 24, 24]           2,320\n",
            "       BatchNorm2d-5           [-1, 16, 24, 24]              32\n",
            "           Dropout-6           [-1, 16, 24, 24]               0\n",
            "         MaxPool2d-7           [-1, 16, 12, 12]               0\n",
            "            Conv2d-8           [-1, 24, 10, 10]           3,480\n",
            "       BatchNorm2d-9           [-1, 24, 10, 10]              48\n",
            "          Dropout-10           [-1, 24, 10, 10]               0\n",
            "           Conv2d-11             [-1, 24, 8, 8]           5,208\n",
            "      BatchNorm2d-12             [-1, 24, 8, 8]              48\n",
            "          Dropout-13             [-1, 24, 8, 8]               0\n",
            "           Conv2d-14             [-1, 16, 6, 6]           3,472\n",
            "AdaptiveAvgPool2d-15             [-1, 16, 1, 1]               0\n",
            "           Conv2d-16             [-1, 10, 1, 1]             170\n",
            "================================================================\n",
            "Total params: 14,970\n",
            "Trainable params: 14,970\n",
            "Non-trainable params: 0\n",
            "----------------------------------------------------------------\n",
            "Input size (MB): 0.00\n",
            "Forward/backward pass size (MB): 0.57\n",
            "Params size (MB): 0.06\n",
            "Estimated Total Size (MB): 0.63\n",
            "----------------------------------------------------------------\n"
          ]
        },
        {
          "name": "stderr",
          "output_type": "stream",
          "text": [
            "<ipython-input-15-02105f051fc3>:48: UserWarning: Implicit dimension choice for log_softmax has been deprecated. Change the call to include dim=X as an argument.\n",
            "  return F.log_softmax(x)\n"
          ]
        }
      ],
      "source": [
        "# rebalance the params.\n",
        "\n",
        "class Net_15(nn.Module):\n",
        "    def __init__(self):\n",
        "        super(Net, self).__init__()\n",
        "        self.conv1 = nn.Conv2d(1, 16, 3, padding=0)   #input - 28, Output 26, RF\n",
        "        self.bn1 = nn.BatchNorm2d(16)\n",
        "        self.conv2 = nn.Conv2d(16, 16, 3, padding=0)   #input - 26, Output 24, RF\n",
        "        self.bn2 = nn.BatchNorm2d(16)\n",
        "\n",
        "        self.pool1 = nn.MaxPool2d(2, 2)\n",
        "\n",
        "        self.conv3 = nn.Conv2d(16, 24, 3, padding=0)   #input - 24, Output 22, RF\n",
        "        self.bn3 = nn.BatchNorm2d(24)\n",
        "\n",
        "        self.conv4 = nn.Conv2d(24, 24, 3, padding=0) #input - 11, Output 9, RF\n",
        "        self.bn4 = nn.BatchNorm2d(24)\n",
        "\n",
        "        self.conv5 = nn.Conv2d(24, 16, 3, padding=0) #input - 9, Output 7, RF\n",
        "        self.gap = nn.AdaptiveAvgPool2d((1, 1))\n",
        "        self.conv6 = nn.Conv2d(16, 10, 1)            #input - 7, Output 7, RF\n",
        "\n",
        "        self.dropout1 = nn.Dropout(0.1)\n",
        "        self.dropout2 = nn.Dropout(0.1)\n",
        "        self.dropout3 = nn.Dropout(0.1)\n",
        "        self.dropout4 = nn.Dropout(0.1)\n",
        "        self.dropout5 = nn.Dropout(0.1)\n",
        "\n",
        "    def forward(self, x):\n",
        "        x = F.relu(self.bn1(self.conv1(x)))\n",
        "        x = self.dropout1(x)\n",
        "        x = F.relu(self.bn2(self.conv2(x)))\n",
        "        x = self.dropout2(x)\n",
        "\n",
        "        x = self.pool1(x)\n",
        "\n",
        "        x = F.relu(self.bn3(self.conv3(x)))\n",
        "        x = self.dropout3(x)\n",
        "\n",
        "        x = F.relu(self.bn4(self.conv4(x)))\n",
        "        x = self.dropout4(x)\n",
        "\n",
        "        x = F.relu(self.conv5(x))\n",
        "        x = self.gap(x)\n",
        "        x = self.conv6(x)\n",
        "\n",
        "        x = x.view(-1, 10)\n",
        "        return F.log_softmax(x)\n",
        "\n",
        "Net = Net_15\n",
        "lr = 0.1\n",
        "step_size = 5\n",
        "gamma = 1./3\n",
        "\n",
        "%pip install torchsummary\n",
        "from torchsummary import summary\n",
        "use_cuda = torch.cuda.is_available()\n",
        "device = torch.device(\"cuda\" if use_cuda else \"cpu\")\n",
        "print(f'device: {device}')\n",
        "model = Net().to(device)\n",
        "summary(model, input_size=(1, 28, 28))\n",
        "\n",
        "#Epoch 10\n",
        "#Train set: Average loss: 0.0002, Accuracy: 99.15%\n",
        "#Test set: Average loss: 0.0204, Accuracy: 9937/10000 (99.37%)\n",
        "\n",
        "#Epoch 20:\n",
        "#Train set: Average loss: 0.0002, Accuracy: 99.36%\n",
        "#Test set: Average loss: 0.0167, Accuracy: 9945/10000 (99.45%)"
      ]
    },
    {
      "cell_type": "code",
      "execution_count": null,
      "metadata": {
        "colab": {
          "base_uri": "https://localhost:8080/"
        },
        "id": "6qDpeX412_73",
        "outputId": "5d6d31a8-9f90-4690-d6d6-723eabb02605"
      },
      "outputs": [
        {
          "name": "stdout",
          "output_type": "stream",
          "text": [
            "Looking in indexes: https://pypi.org/simple, https://us-python.pkg.dev/colab-wheels/public/simple/\n",
            "Requirement already satisfied: torchsummary in /usr/local/lib/python3.10/dist-packages (1.5.1)\n",
            "device: cpu\n",
            "----------------------------------------------------------------\n",
            "        Layer (type)               Output Shape         Param #\n",
            "================================================================\n",
            "            Conv2d-1           [-1, 12, 26, 26]             120\n",
            "       BatchNorm2d-2           [-1, 12, 26, 26]              24\n",
            "           Dropout-3           [-1, 12, 26, 26]               0\n",
            "            Conv2d-4           [-1, 12, 24, 24]           1,308\n",
            "       BatchNorm2d-5           [-1, 12, 24, 24]              24\n",
            "           Dropout-6           [-1, 12, 24, 24]               0\n",
            "         MaxPool2d-7           [-1, 12, 12, 12]               0\n",
            "            Conv2d-8           [-1, 16, 10, 10]           1,744\n",
            "       BatchNorm2d-9           [-1, 16, 10, 10]              32\n",
            "          Dropout-10           [-1, 16, 10, 10]               0\n",
            "           Conv2d-11             [-1, 16, 8, 8]           2,320\n",
            "      BatchNorm2d-12             [-1, 16, 8, 8]              32\n",
            "          Dropout-13             [-1, 16, 8, 8]               0\n",
            "           Conv2d-14             [-1, 12, 6, 6]           1,740\n",
            "AdaptiveAvgPool2d-15             [-1, 12, 1, 1]               0\n",
            "           Conv2d-16             [-1, 10, 1, 1]             130\n",
            "================================================================\n",
            "Total params: 7,474\n",
            "Trainable params: 7,474\n",
            "Non-trainable params: 0\n",
            "----------------------------------------------------------------\n",
            "Input size (MB): 0.00\n",
            "Forward/backward pass size (MB): 0.42\n",
            "Params size (MB): 0.03\n",
            "Estimated Total Size (MB): 0.45\n",
            "----------------------------------------------------------------\n"
          ]
        },
        {
          "name": "stderr",
          "output_type": "stream",
          "text": [
            "<ipython-input-16-20853ad8100a>:51: UserWarning: Implicit dimension choice for log_softmax has been deprecated. Change the call to include dim=X as an argument.\n",
            "  return F.log_softmax(x)\n"
          ]
        }
      ],
      "source": [
        "# reduce the params.\n",
        "\n",
        "class Net_16(nn.Module):\n",
        "    def __init__(self):\n",
        "        super(Net, self).__init__()\n",
        "        self.conv1 = nn.Conv2d(1, 12, 3, padding=0)   #input - 28, Output 26, RF\n",
        "        self.bn1 = nn.BatchNorm2d(12)\n",
        "        self.conv2 = nn.Conv2d(12, 12, 3, padding=0)   #input - 26, Output 24, RF\n",
        "        self.bn2 = nn.BatchNorm2d(12)\n",
        "\n",
        "        self.pool1 = nn.MaxPool2d(2, 2)\n",
        "\n",
        "        self.conv3 = nn.Conv2d(12, 16, 3, padding=0)   #input - 24, Output 22, RF\n",
        "        self.bn3 = nn.BatchNorm2d(16)\n",
        "\n",
        "        self.conv4 = nn.Conv2d(16, 16, 3, padding=0) #input - 11, Output 9, RF\n",
        "        self.bn4 = nn.BatchNorm2d(16)\n",
        "\n",
        "        self.conv5 = nn.Conv2d(16, 12, 3, padding=0) #input - 9, Output 7, RF\n",
        "\n",
        "        self.gap = nn.AdaptiveAvgPool2d((1, 1))\n",
        "        self.conv6 = nn.Conv2d(12, 10, 1)            #input - 7, Output 7, RF\n",
        "\n",
        "        self.dropout1 = nn.Dropout(0.1)\n",
        "        self.dropout2 = nn.Dropout(0.1)\n",
        "        self.dropout3 = nn.Dropout(0.1)\n",
        "        self.dropout4 = nn.Dropout(0.1)\n",
        "        self.dropout5 = nn.Dropout(0.1)\n",
        "\n",
        "    def forward(self, x):\n",
        "        x = F.relu(self.bn1(self.conv1(x)))\n",
        "        x = self.dropout1(x)\n",
        "        x = F.relu(self.bn2(self.conv2(x)))\n",
        "        x = self.dropout2(x)\n",
        "\n",
        "        x = self.pool1(x)\n",
        "\n",
        "        x = F.relu(self.bn3(self.conv3(x)))\n",
        "        x = self.dropout3(x)\n",
        "\n",
        "\n",
        "\n",
        "        x = F.relu(self.bn4(self.conv4(x)))\n",
        "        x = self.dropout4(x)\n",
        "\n",
        "        x = F.relu(self.conv5(x))\n",
        "        x = self.gap(x)\n",
        "        x = self.conv6(x)\n",
        "\n",
        "        x = x.view(-1, 10)\n",
        "        return F.log_softmax(x)\n",
        "\n",
        "Net = Net_16\n",
        "lr = 0.1\n",
        "step_size = 5\n",
        "gamma = 1./3\n",
        "\n",
        "%pip install torchsummary\n",
        "from torchsummary import summary\n",
        "use_cuda = torch.cuda.is_available()\n",
        "device = torch.device(\"cuda\" if use_cuda else \"cpu\")\n",
        "print(f'device: {device}')\n",
        "model = Net().to(device)\n",
        "summary(model, input_size=(1, 28, 28))\n",
        "\n",
        "#Epoch 10\n",
        "#Train set: Average loss: 0.0002, Accuracy: 99.05%\n",
        "#Test set: Average loss: 0.0232, Accuracy: 9934/10000 (99.34%)\n",
        "\n",
        "#Epoch 20:\n",
        "#Train set: Average loss: 0.0002, Accuracy: 99.12%\n",
        "#Test set: Average loss: 0.0213, Accuracy: 9936/10000 (99.36%)\n"
      ]
    },
    {
      "cell_type": "code",
      "execution_count": null,
      "metadata": {
        "colab": {
          "base_uri": "https://localhost:8080/"
        },
        "id": "XLOk4TlTPiqA",
        "outputId": "87149987-093e-4d75-ccd4-e73bf415967e"
      },
      "outputs": [
        {
          "name": "stdout",
          "output_type": "stream",
          "text": [
            "#epoch: 1\n",
            "#lr: 0.1\n"
          ]
        },
        {
          "name": "stderr",
          "output_type": "stream",
          "text": [
            "\r  0%|          | 0/469 [00:00<?, ?it/s]<ipython-input-16-20853ad8100a>:51: UserWarning: Implicit dimension choice for log_softmax has been deprecated. Change the call to include dim=X as an argument.\n",
            "  return F.log_softmax(x)\n",
            "loss=0.15269608795642853 batch_id=468: 100%|██████████| 469/469 [01:22<00:00,  5.71it/s]\n"
          ]
        },
        {
          "name": "stdout",
          "output_type": "stream",
          "text": [
            "\n",
            "#Train set: Average loss: 0.0027, Accuracy: 88.57%\n",
            "#Test set: Average loss: 0.0961, Accuracy: 9673/10000 (96.73%)\n",
            "\n",
            "#epoch: 2\n",
            "#lr: 0.1\n"
          ]
        },
        {
          "name": "stderr",
          "output_type": "stream",
          "text": [
            "loss=0.037718188017606735 batch_id=468: 100%|██████████| 469/469 [01:17<00:00,  6.07it/s]\n"
          ]
        },
        {
          "name": "stdout",
          "output_type": "stream",
          "text": [
            "\n",
            "#Train set: Average loss: 0.0007, Accuracy: 97.32%\n",
            "#Test set: Average loss: 0.0577, Accuracy: 9804/10000 (98.04%)\n",
            "\n",
            "#epoch: 3\n",
            "#lr: 0.1\n"
          ]
        },
        {
          "name": "stderr",
          "output_type": "stream",
          "text": [
            "loss=0.09475577622652054 batch_id=468: 100%|██████████| 469/469 [01:15<00:00,  6.21it/s]\n"
          ]
        },
        {
          "name": "stdout",
          "output_type": "stream",
          "text": [
            "\n",
            "#Train set: Average loss: 0.0006, Accuracy: 97.82%\n",
            "#Test set: Average loss: 0.0361, Accuracy: 9887/10000 (98.87%)\n",
            "\n",
            "#epoch: 4\n",
            "#lr: 0.1\n"
          ]
        },
        {
          "name": "stderr",
          "output_type": "stream",
          "text": [
            "loss=0.09965652227401733 batch_id=468: 100%|██████████| 469/469 [01:14<00:00,  6.27it/s]\n"
          ]
        },
        {
          "name": "stdout",
          "output_type": "stream",
          "text": [
            "\n",
            "#Train set: Average loss: 0.0005, Accuracy: 98.05%\n",
            "#Test set: Average loss: 0.0357, Accuracy: 9886/10000 (98.86%)\n",
            "\n",
            "#epoch: 5\n",
            "#lr: 0.1\n"
          ]
        },
        {
          "name": "stderr",
          "output_type": "stream",
          "text": [
            "loss=0.20966990292072296 batch_id=468: 100%|██████████| 469/469 [01:15<00:00,  6.24it/s]\n"
          ]
        },
        {
          "name": "stdout",
          "output_type": "stream",
          "text": [
            "\n",
            "#Train set: Average loss: 0.0004, Accuracy: 98.20%\n",
            "#Test set: Average loss: 0.0335, Accuracy: 9888/10000 (98.88%)\n",
            "\n",
            "#epoch: 6\n",
            "#lr: 0.03333333333333333\n"
          ]
        },
        {
          "name": "stderr",
          "output_type": "stream",
          "text": [
            "loss=0.006191946566104889 batch_id=468: 100%|██████████| 469/469 [01:14<00:00,  6.25it/s]\n"
          ]
        },
        {
          "name": "stdout",
          "output_type": "stream",
          "text": [
            "\n",
            "#Train set: Average loss: 0.0003, Accuracy: 98.69%\n",
            "#Test set: Average loss: 0.0252, Accuracy: 9925/10000 (99.25%)\n",
            "\n",
            "#epoch: 7\n",
            "#lr: 0.03333333333333333\n"
          ]
        },
        {
          "name": "stderr",
          "output_type": "stream",
          "text": [
            "loss=0.011602730490267277 batch_id=468: 100%|██████████| 469/469 [01:16<00:00,  6.15it/s]\n"
          ]
        },
        {
          "name": "stdout",
          "output_type": "stream",
          "text": [
            "\n",
            "#Train set: Average loss: 0.0003, Accuracy: 98.74%\n",
            "#Test set: Average loss: 0.0238, Accuracy: 9924/10000 (99.24%)\n",
            "\n",
            "#epoch: 8\n",
            "#lr: 0.03333333333333333\n"
          ]
        },
        {
          "name": "stderr",
          "output_type": "stream",
          "text": [
            "loss=0.002890530973672867 batch_id=468: 100%|██████████| 469/469 [01:15<00:00,  6.23it/s]\n"
          ]
        },
        {
          "name": "stdout",
          "output_type": "stream",
          "text": [
            "\n",
            "#Train set: Average loss: 0.0003, Accuracy: 98.88%\n",
            "#Test set: Average loss: 0.0222, Accuracy: 9929/10000 (99.29%)\n",
            "\n",
            "#epoch: 9\n",
            "#lr: 0.03333333333333333\n"
          ]
        },
        {
          "name": "stderr",
          "output_type": "stream",
          "text": [
            "loss=0.022174911573529243 batch_id=468: 100%|██████████| 469/469 [01:15<00:00,  6.18it/s]\n"
          ]
        },
        {
          "name": "stdout",
          "output_type": "stream",
          "text": [
            "\n",
            "#Train set: Average loss: 0.0003, Accuracy: 98.84%\n",
            "#Test set: Average loss: 0.0233, Accuracy: 9931/10000 (99.31%)\n",
            "\n",
            "#epoch: 10\n",
            "#lr: 0.03333333333333333\n"
          ]
        },
        {
          "name": "stderr",
          "output_type": "stream",
          "text": [
            "loss=0.015353318303823471 batch_id=468: 100%|██████████| 469/469 [01:16<00:00,  6.09it/s]\n"
          ]
        },
        {
          "name": "stdout",
          "output_type": "stream",
          "text": [
            "\n",
            "#Train set: Average loss: 0.0003, Accuracy: 98.85%\n",
            "#Test set: Average loss: 0.0241, Accuracy: 9913/10000 (99.13%)\n",
            "\n",
            "#epoch: 11\n",
            "#lr: 0.01111111111111111\n"
          ]
        },
        {
          "name": "stderr",
          "output_type": "stream",
          "text": [
            "loss=0.03218488395214081 batch_id=468: 100%|██████████| 469/469 [01:15<00:00,  6.25it/s]\n"
          ]
        },
        {
          "name": "stdout",
          "output_type": "stream",
          "text": [
            "\n",
            "#Train set: Average loss: 0.0003, Accuracy: 99.00%\n",
            "#Test set: Average loss: 0.0202, Accuracy: 9935/10000 (99.35%)\n",
            "\n",
            "#epoch: 12\n",
            "#lr: 0.01111111111111111\n"
          ]
        },
        {
          "name": "stderr",
          "output_type": "stream",
          "text": [
            "loss=0.03282497450709343 batch_id=468: 100%|██████████| 469/469 [01:15<00:00,  6.17it/s]\n"
          ]
        },
        {
          "name": "stdout",
          "output_type": "stream",
          "text": [
            "\n",
            "#Train set: Average loss: 0.0002, Accuracy: 99.01%\n",
            "#Test set: Average loss: 0.0206, Accuracy: 9935/10000 (99.35%)\n",
            "\n",
            "#epoch: 13\n",
            "#lr: 0.01111111111111111\n"
          ]
        },
        {
          "name": "stderr",
          "output_type": "stream",
          "text": [
            "loss=0.019015390425920486 batch_id=468: 100%|██████████| 469/469 [01:14<00:00,  6.27it/s]\n"
          ]
        },
        {
          "name": "stdout",
          "output_type": "stream",
          "text": [
            "\n",
            "#Train set: Average loss: 0.0002, Accuracy: 99.03%\n",
            "#Test set: Average loss: 0.0200, Accuracy: 9933/10000 (99.33%)\n",
            "\n",
            "#epoch: 14\n",
            "#lr: 0.01111111111111111\n"
          ]
        },
        {
          "name": "stderr",
          "output_type": "stream",
          "text": [
            "loss=0.0363694503903389 batch_id=468: 100%|██████████| 469/469 [01:16<00:00,  6.14it/s]\n"
          ]
        },
        {
          "name": "stdout",
          "output_type": "stream",
          "text": [
            "\n",
            "#Train set: Average loss: 0.0002, Accuracy: 98.95%\n",
            "#Test set: Average loss: 0.0199, Accuracy: 9937/10000 (99.37%)\n",
            "\n",
            "#epoch: 15\n",
            "#lr: 0.01111111111111111\n"
          ]
        },
        {
          "name": "stderr",
          "output_type": "stream",
          "text": [
            "loss=0.04882113263010979 batch_id=468: 100%|██████████| 469/469 [01:15<00:00,  6.22it/s]\n"
          ]
        },
        {
          "name": "stdout",
          "output_type": "stream",
          "text": [
            "\n",
            "#Train set: Average loss: 0.0002, Accuracy: 98.99%\n",
            "#Test set: Average loss: 0.0196, Accuracy: 9936/10000 (99.36%)\n",
            "\n",
            "#epoch: 16\n",
            "#lr: 0.003703703703703703\n"
          ]
        },
        {
          "name": "stderr",
          "output_type": "stream",
          "text": [
            "loss=0.008608968928456306 batch_id=468: 100%|██████████| 469/469 [01:16<00:00,  6.14it/s]\n"
          ]
        },
        {
          "name": "stdout",
          "output_type": "stream",
          "text": [
            "\n",
            "#Train set: Average loss: 0.0002, Accuracy: 99.07%\n",
            "#Test set: Average loss: 0.0196, Accuracy: 9940/10000 (99.40%)\n",
            "\n",
            "#epoch: 17\n",
            "#lr: 0.003703703703703703\n"
          ]
        },
        {
          "name": "stderr",
          "output_type": "stream",
          "text": [
            "loss=0.01611240580677986 batch_id=468: 100%|██████████| 469/469 [01:15<00:00,  6.23it/s]\n"
          ]
        },
        {
          "name": "stdout",
          "output_type": "stream",
          "text": [
            "\n",
            "#Train set: Average loss: 0.0002, Accuracy: 99.11%\n",
            "#Test set: Average loss: 0.0196, Accuracy: 9934/10000 (99.34%)\n",
            "\n",
            "#epoch: 18\n",
            "#lr: 0.003703703703703703\n"
          ]
        },
        {
          "name": "stderr",
          "output_type": "stream",
          "text": [
            "loss=0.03208557888865471 batch_id=468: 100%|██████████| 469/469 [01:15<00:00,  6.25it/s]\n"
          ]
        },
        {
          "name": "stdout",
          "output_type": "stream",
          "text": [
            "\n",
            "#Train set: Average loss: 0.0002, Accuracy: 99.08%\n",
            "#Test set: Average loss: 0.0191, Accuracy: 9940/10000 (99.40%)\n",
            "\n",
            "#epoch: 19\n",
            "#lr: 0.003703703703703703\n"
          ]
        },
        {
          "name": "stderr",
          "output_type": "stream",
          "text": [
            "loss=0.038138583302497864 batch_id=468: 100%|██████████| 469/469 [01:16<00:00,  6.14it/s]\n"
          ]
        },
        {
          "name": "stdout",
          "output_type": "stream",
          "text": [
            "\n",
            "#Train set: Average loss: 0.0002, Accuracy: 99.14%\n",
            "#Test set: Average loss: 0.0198, Accuracy: 9939/10000 (99.39%)\n",
            "\n",
            "#epoch: 20\n",
            "#lr: 0.003703703703703703\n"
          ]
        },
        {
          "name": "stderr",
          "output_type": "stream",
          "text": [
            "loss=0.005660363007336855 batch_id=468: 100%|██████████| 469/469 [01:15<00:00,  6.20it/s]\n"
          ]
        },
        {
          "name": "stdout",
          "output_type": "stream",
          "text": [
            "\n",
            "#Train set: Average loss: 0.0002, Accuracy: 99.06%\n",
            "#Test set: Average loss: 0.0197, Accuracy: 9933/10000 (99.33%)\n",
            "\n",
            "#epoch: 21\n",
            "#lr: 0.0012345679012345677\n"
          ]
        },
        {
          "name": "stderr",
          "output_type": "stream",
          "text": [
            "loss=0.05978759005665779 batch_id=468: 100%|██████████| 469/469 [01:17<00:00,  6.05it/s]\n"
          ]
        },
        {
          "name": "stdout",
          "output_type": "stream",
          "text": [
            "\n",
            "#Train set: Average loss: 0.0002, Accuracy: 99.09%\n",
            "#Test set: Average loss: 0.0193, Accuracy: 9938/10000 (99.38%)\n",
            "\n",
            "#epoch: 22\n",
            "#lr: 0.0012345679012345677\n"
          ]
        },
        {
          "name": "stderr",
          "output_type": "stream",
          "text": [
            "loss=0.054282840341329575 batch_id=468: 100%|██████████| 469/469 [01:15<00:00,  6.20it/s]\n"
          ]
        },
        {
          "name": "stdout",
          "output_type": "stream",
          "text": [
            "\n",
            "#Train set: Average loss: 0.0002, Accuracy: 99.06%\n",
            "#Test set: Average loss: 0.0195, Accuracy: 9935/10000 (99.35%)\n",
            "\n",
            "#epoch: 23\n",
            "#lr: 0.0012345679012345677\n"
          ]
        },
        {
          "name": "stderr",
          "output_type": "stream",
          "text": [
            "loss=0.002318320097401738 batch_id=468: 100%|██████████| 469/469 [01:17<00:00,  6.08it/s]\n"
          ]
        },
        {
          "name": "stdout",
          "output_type": "stream",
          "text": [
            "\n",
            "#Train set: Average loss: 0.0002, Accuracy: 99.05%\n",
            "#Test set: Average loss: 0.0198, Accuracy: 9937/10000 (99.37%)\n",
            "\n",
            "#epoch: 24\n",
            "#lr: 0.0012345679012345677\n"
          ]
        },
        {
          "name": "stderr",
          "output_type": "stream",
          "text": [
            "loss=0.037076275795698166 batch_id=468: 100%|██████████| 469/469 [01:16<00:00,  6.11it/s]\n"
          ]
        },
        {
          "name": "stdout",
          "output_type": "stream",
          "text": [
            "\n",
            "#Train set: Average loss: 0.0002, Accuracy: 99.07%\n",
            "#Test set: Average loss: 0.0196, Accuracy: 9941/10000 (99.41%)\n",
            "\n",
            "#epoch: 25\n",
            "#lr: 0.0012345679012345677\n"
          ]
        },
        {
          "name": "stderr",
          "output_type": "stream",
          "text": [
            "loss=0.042446281760931015 batch_id=468: 100%|██████████| 469/469 [01:16<00:00,  6.12it/s]\n"
          ]
        },
        {
          "name": "stdout",
          "output_type": "stream",
          "text": [
            "\n",
            "#Train set: Average loss: 0.0002, Accuracy: 99.10%\n",
            "#Test set: Average loss: 0.0195, Accuracy: 9933/10000 (99.33%)\n",
            "\n"
          ]
        }
      ],
      "source": [
        "\n",
        "\n",
        "optimizer = optim.SGD(model.parameters(), lr=lr, momentum=0.9)\n",
        "scheduler = StepLR(optimizer, step_size=step_size, gamma=gamma)\n",
        "\n",
        "for epoch in range(1, 26):\n",
        "    print(f'#epoch: {epoch}')\n",
        "    print(f'#lr: {optimizer.param_groups[0][\"lr\"]}')\n",
        "    train(model, device, train_loader, optimizer, epoch)\n",
        "    test(model, device, test_loader)\n",
        "    scheduler.step()\n"
      ]
    }
  ],
  "metadata": {
    "colab": {
      "gpuType": "T4",
      "provenance": []
    },
    "kernelspec": {
      "display_name": "Python 3",
      "name": "python3"
    },
    "language_info": {
      "name": "python"
    }
  },
  "nbformat": 4,
  "nbformat_minor": 0
}
