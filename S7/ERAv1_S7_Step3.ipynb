{
  "cells": [
    {
      "cell_type": "code",
      "execution_count": null,
      "metadata": {
        "id": "SEGV2Eca7AEw"
      },
      "outputs": [],
      "source": [
        "\"\"\"\n",
        "Target:\n",
        "We try to achieve 99.4 test accuracy within 8k params.\n",
        "We do this by experimenting with LR schedulers.\n",
        "\n",
        "\n",
        "Result:\n",
        "OneCycleLR and ExponentialLR were tried out.\n",
        "Various params of OneCycleLR were tried.\n",
        "\n",
        "num params: 8k\n",
        "train accuracy: 99.17\n",
        "test accuracy: > 99.35\n",
        "\n",
        "A stable test accuracy of > 99.35 was achieved\n",
        "\n",
        "Analysis:\n",
        "Good LR scheduling can improve accuracy towards the end.\n",
        "\n",
        "\n",
        "\"\"\"\n",
        "\n",
        "\n"
      ]
    },
    {
      "cell_type": "code",
      "execution_count": null,
      "metadata": {
        "id": "BECzqFEr7Fi5"
      },
      "outputs": [],
      "source": [
        "from __future__ import print_function\n",
        "import torch\n",
        "import torch.nn as nn\n",
        "import torch.nn.functional as F\n",
        "import torch.optim as optim\n",
        "from torchvision import datasets, transforms\n",
        "\n",
        "from torch.optim.lr_scheduler import StepLR, OneCycleLR\n",
        "import matplotlib.pyplot as plt"
      ]
    },
    {
      "cell_type": "code",
      "execution_count": null,
      "metadata": {
        "colab": {
          "base_uri": "https://localhost:8080/"
        },
        "id": "KYRcj9vt95ER",
        "outputId": "d5a9d35f-0939-4bb0-f526-771865c1380a"
      },
      "outputs": [
        {
          "name": "stdout",
          "output_type": "stream",
          "text": [
            "Looking in indexes: https://pypi.org/simple, https://us-python.pkg.dev/colab-wheels/public/simple/\n",
            "Requirement already satisfied: torchsummary in /usr/local/lib/python3.10/dist-packages (1.5.1)\n"
          ]
        }
      ],
      "source": [
        "%pip install torchsummary\n",
        "from torchsummary import summary\n",
        "use_cuda = torch.cuda.is_available()\n",
        "device = torch.device(\"cuda\" if use_cuda else \"cpu\")\n"
      ]
    },
    {
      "cell_type": "code",
      "execution_count": null,
      "metadata": {
        "id": "5K9W9sFq7GHo"
      },
      "outputs": [],
      "source": [
        "from tqdm import tqdm\n",
        "def train(model, device, train_loader, optimizer, epoch):\n",
        "    model.train()\n",
        "    pbar = tqdm(train_loader)\n",
        "    correct = 0\n",
        "    train_loss = 0\n",
        "    for batch_idx, (data, target) in enumerate(pbar):\n",
        "        data, target = data.to(device), target.to(device)\n",
        "        optimizer.zero_grad()\n",
        "        output = model(data)\n",
        "        loss = F.nll_loss(output, target)\n",
        "        loss.backward()\n",
        "        optimizer.step()\n",
        "        train_loss += loss.item()\n",
        "\n",
        "        pred = output.argmax(dim=1, keepdim=True)  # get the index of the max log-probability\n",
        "        correct += pred.eq(target.view_as(pred)).sum().item()\n",
        "\n",
        "        pbar.set_description(desc= f'loss={loss.item()} batch_id={batch_idx}')\n",
        "\n",
        "    train_loss /= len(train_loader.dataset)\n",
        "\n",
        "    print('\\n#Train set: Average loss: {:.4f}, Accuracy: {:.2f}%'.format(\n",
        "        train_loss,\n",
        "        100. * correct / len(train_loader.dataset)))\n",
        "\n",
        "\n",
        "def test(model, device, test_loader):\n",
        "    model.eval()\n",
        "    test_loss = 0\n",
        "    correct = 0\n",
        "    with torch.no_grad():\n",
        "        for data, target in test_loader:\n",
        "            data, target = data.to(device), target.to(device)\n",
        "            output = model(data)\n",
        "            test_loss += F.nll_loss(output, target, reduction='sum').item()  # sum up batch loss\n",
        "            pred = output.argmax(dim=1, keepdim=True)  # get the index of the max log-probability\n",
        "            correct += pred.eq(target.view_as(pred)).sum().item()\n",
        "\n",
        "    test_loss /= len(test_loader.dataset)\n",
        "\n",
        "    print('#Test set: Average loss: {:.4f}, Accuracy: {}/{} ({:.2f}%)\\n'.format(\n",
        "        test_loss, correct, len(test_loader.dataset),\n",
        "        100. * correct / len(test_loader.dataset)))"
      ]
    },
    {
      "cell_type": "code",
      "execution_count": null,
      "metadata": {
        "colab": {
          "base_uri": "https://localhost:8080/"
        },
        "id": "NxEHTpRk7Hdb",
        "outputId": "0cbfebca-f263-4cc6-b9ac-68b0fd60685d"
      },
      "outputs": [
        {
          "name": "stdout",
          "output_type": "stream",
          "text": [
            "device: cuda\n",
            "Num images in train: 60000\n"
          ]
        }
      ],
      "source": [
        "use_cuda = torch.cuda.is_available()\n",
        "device = torch.device(\"cuda\" if use_cuda else \"cpu\")\n",
        "print(f'device: {device}')\n",
        "\n",
        "torch.manual_seed(1)\n",
        "batch_size = 128\n",
        "lr=0.01\n",
        "\n",
        "kwargs = {'num_workers': 1, 'pin_memory': True} if use_cuda else {}\n",
        "train_loader = torch.utils.data.DataLoader(\n",
        "    datasets.MNIST('../data', train=True, download=True,\n",
        "                    transform=transforms.Compose([\n",
        "                        transforms.RandomRotation((-7, 7), fill=(1,)),\n",
        "                        transforms.ToTensor(),\n",
        "                        transforms.Normalize((0.1307,), (0.3081,))\n",
        "                    ])),\n",
        "    batch_size=batch_size, shuffle=True, **kwargs)\n",
        "\n",
        "test_loader = torch.utils.data.DataLoader(\n",
        "    datasets.MNIST('../data', train=False, transform=transforms.Compose([\n",
        "                        transforms.ToTensor(),\n",
        "                        transforms.Normalize((0.1307,), (0.3081,))\n",
        "                    ])),\n",
        "    batch_size=batch_size, shuffle=True, **kwargs)\n",
        "\n",
        "print(f'Num images in train: {len(train_loader.dataset)}')"
      ]
    },
    {
      "cell_type": "code",
      "execution_count": null,
      "metadata": {
        "colab": {
          "base_uri": "https://localhost:8080/"
        },
        "id": "2wB2i6T67JI1",
        "outputId": "c9adb0a9-428a-488b-a706-7a059f599587"
      },
      "outputs": [
        {
          "name": "stdout",
          "output_type": "stream",
          "text": [
            "----------------------------------------------------------------\n",
            "        Layer (type)               Output Shape         Param #\n",
            "================================================================\n",
            "            Conv2d-1           [-1, 12, 26, 26]             120\n",
            "       BatchNorm2d-2           [-1, 12, 26, 26]              24\n",
            "           Dropout-3           [-1, 12, 26, 26]               0\n",
            "            Conv2d-4           [-1, 12, 24, 24]           1,308\n",
            "       BatchNorm2d-5           [-1, 12, 24, 24]              24\n",
            "           Dropout-6           [-1, 12, 24, 24]               0\n",
            "         MaxPool2d-7           [-1, 12, 12, 12]               0\n",
            "            Conv2d-8           [-1, 16, 10, 10]           1,744\n",
            "       BatchNorm2d-9           [-1, 16, 10, 10]              32\n",
            "          Dropout-10           [-1, 16, 10, 10]               0\n",
            "           Conv2d-11             [-1, 16, 8, 8]           2,320\n",
            "      BatchNorm2d-12             [-1, 16, 8, 8]              32\n",
            "          Dropout-13             [-1, 16, 8, 8]               0\n",
            "           Conv2d-14             [-1, 15, 6, 6]           2,175\n",
            "AdaptiveAvgPool2d-15             [-1, 15, 1, 1]               0\n",
            "           Conv2d-16             [-1, 10, 1, 1]             160\n",
            "================================================================\n",
            "Total params: 7,939\n",
            "Trainable params: 7,939\n",
            "Non-trainable params: 0\n",
            "----------------------------------------------------------------\n",
            "Input size (MB): 0.00\n",
            "Forward/backward pass size (MB): 0.42\n",
            "Params size (MB): 0.03\n",
            "Estimated Total Size (MB): 0.45\n",
            "----------------------------------------------------------------\n"
          ]
        },
        {
          "name": "stderr",
          "output_type": "stream",
          "text": [
            "<ipython-input-17-89d19ebaed0e>:51: UserWarning: Implicit dimension choice for log_softmax has been deprecated. Change the call to include dim=X as an argument.\n",
            "  return F.log_softmax(x)\n"
          ]
        }
      ],
      "source": [
        "# from Step 2. Increase params to 8k. Use OneCycleLR scheduler.\n",
        "\n",
        "class Net_17(nn.Module):\n",
        "    def __init__(self):\n",
        "        super(Net, self).__init__()\n",
        "        self.conv1 = nn.Conv2d(1, 12, 3, padding=0)   #input - 28, Output 26, RF\n",
        "        self.bn1 = nn.BatchNorm2d(12)\n",
        "        self.conv2 = nn.Conv2d(12, 12, 3, padding=0)   #input - 26, Output 24, RF\n",
        "        self.bn2 = nn.BatchNorm2d(12)\n",
        "\n",
        "        self.pool1 = nn.MaxPool2d(2, 2)\n",
        "\n",
        "        self.conv3 = nn.Conv2d(12, 16, 3, padding=0)   #input - 24, Output 22, RF\n",
        "        self.bn3 = nn.BatchNorm2d(16)\n",
        "\n",
        "        self.conv4 = nn.Conv2d(16, 16, 3, padding=0) #input - 11, Output 9, RF\n",
        "        self.bn4 = nn.BatchNorm2d(16)\n",
        "\n",
        "        self.conv5 = nn.Conv2d(16, 15, 3, padding=0) #input - 9, Output 7, RF\n",
        "\n",
        "        self.gap = nn.AdaptiveAvgPool2d((1, 1))\n",
        "        self.conv6 = nn.Conv2d(15, 10, 1)            #input - 7, Output 7, RF\n",
        "\n",
        "        self.dropout1 = nn.Dropout(0.1)\n",
        "        self.dropout2 = nn.Dropout(0.1)\n",
        "        self.dropout3 = nn.Dropout(0.1)\n",
        "        self.dropout4 = nn.Dropout(0.1)\n",
        "        self.dropout5 = nn.Dropout(0.1)\n",
        "\n",
        "    def forward(self, x):\n",
        "        x = F.relu(self.bn1(self.conv1(x)))\n",
        "        x = self.dropout1(x)\n",
        "        x = F.relu(self.bn2(self.conv2(x)))\n",
        "        x = self.dropout2(x)\n",
        "\n",
        "        x = self.pool1(x)\n",
        "\n",
        "        x = F.relu(self.bn3(self.conv3(x)))\n",
        "        x = self.dropout3(x)\n",
        "\n",
        "\n",
        "\n",
        "        x = F.relu(self.bn4(self.conv4(x)))\n",
        "        x = self.dropout4(x)\n",
        "\n",
        "        x = F.relu(self.conv5(x))\n",
        "        x = self.gap(x)\n",
        "        x = self.conv6(x)\n",
        "\n",
        "        x = x.view(-1, 10)\n",
        "        return F.log_softmax(x)\n",
        "\n",
        "Net = Net_17\n",
        "\n",
        "lr = 0.1\n",
        "\n",
        "oclr_max_lr = 0.1\n",
        "num_epochs = 15\n",
        "\n",
        "model = Net().to(device)\n",
        "\n",
        "optimizer = optim.SGD(model.parameters(), lr=lr)\n",
        "# scheduler = StepLR(optimizer, step_size=step_size, gamma=gamma)\n",
        "scheduler = OneCycleLR(optimizer, max_lr=oclr_max_lr, steps_per_epoch=1, epochs=num_epochs)\n",
        "\n",
        "summary(model, input_size=(1, 28, 28))\n",
        "\n",
        "\n",
        "\n",
        "##### For 20 epochs #######\n",
        "\n",
        "#epoch: 16\n",
        "#lr: 0.0188258346050237\n",
        "#Train set: Average loss: 0.0002, Accuracy: 99.12%\n",
        "#Test set: Average loss: 0.0201, Accuracy: 9939/10000 (99.39%)\n",
        "\n",
        "#epoch: 17\n",
        "#lr: 0.010908782242895003\n",
        "#Train set: Average loss: 0.0002, Accuracy: 99.17%\n",
        "#Test set: Average loss: 0.0186, Accuracy: 9944/10000 (99.44%)\n",
        "\n",
        "#epoch: 18\n",
        "#lr: 0.004951936798652629\n",
        "#Train set: Average loss: 0.0002, Accuracy: 99.23%\n",
        "#Test set: Average loss: 0.0179, Accuracy: 9946/10000 (99.46%)\n",
        "\n",
        "#epoch: 19\n",
        "#lr: 0.0012539993764912555\n",
        "#Train set: Average loss: 0.0002, Accuracy: 99.24%\n",
        "#Test set: Average loss: 0.0175, Accuracy: 9949/10000 (99.49%)\n",
        "\n",
        "#epoch: 20\n",
        "#lr: 4e-07\n",
        "#Train set: Average loss: 0.0002, Accuracy: 99.28%\n",
        "#Test set: Average loss: 0.0177, Accuracy: 9951/10000 (99.51%)\n",
        "\n",
        "\n",
        "############  For 15 epochs ##########\n",
        "\n",
        "\n",
        "#epoch: 11\n",
        "#lr: 0.03173322184988512\n",
        "#Train set: Average loss: 0.0003, Accuracy: 98.98%\n",
        "#Test set: Average loss: 0.0212, Accuracy: 9931/10000 (99.31%)\n",
        "\n",
        "#epoch: 12\n",
        "#lr: 0.0188258346050237\n",
        "#Train set: Average loss: 0.0002, Accuracy: 99.06%\n",
        "#Test set: Average loss: 0.0218, Accuracy: 9929/10000 (99.29%)\n",
        "\n",
        "#epoch: 13\n",
        "#lr: 0.008688426531955128\n",
        "#Train set: Average loss: 0.0002, Accuracy: 99.08%\n",
        "#Test set: Average loss: 0.0203, Accuracy: 9938/10000 (99.38%)\n",
        "\n",
        "#epoch: 14\n",
        "#lr: 0.002221750825254118\n",
        "#Train set: Average loss: 0.0002, Accuracy: 99.16%\n",
        "#Test set: Average loss: 0.0191, Accuracy: 9942/10000 (99.42%)\n",
        "\n",
        "#epoch: 15\n",
        "#lr: 4e-07\n",
        "#Train set: Average loss: 0.0002, Accuracy: 99.23%\n",
        "#Test set: Average loss: 0.0196, Accuracy: 9941/10000 (99.41%)\n",
        "\n",
        "\n"
      ]
    },
    {
      "cell_type": "code",
      "execution_count": null,
      "metadata": {
        "colab": {
          "base_uri": "https://localhost:8080/"
        },
        "id": "TrVElH3QK9qk",
        "outputId": "b7848550-ff0f-4472-e932-70728756f746"
      },
      "outputs": [
        {
          "name": "stdout",
          "output_type": "stream",
          "text": [
            "----------------------------------------------------------------\n",
            "        Layer (type)               Output Shape         Param #\n",
            "================================================================\n",
            "            Conv2d-1           [-1, 12, 26, 26]             120\n",
            "       BatchNorm2d-2           [-1, 12, 26, 26]              24\n",
            "           Dropout-3           [-1, 12, 26, 26]               0\n",
            "            Conv2d-4           [-1, 12, 24, 24]           1,308\n",
            "       BatchNorm2d-5           [-1, 12, 24, 24]              24\n",
            "           Dropout-6           [-1, 12, 24, 24]               0\n",
            "         MaxPool2d-7           [-1, 12, 12, 12]               0\n",
            "            Conv2d-8           [-1, 16, 10, 10]           1,744\n",
            "       BatchNorm2d-9           [-1, 16, 10, 10]              32\n",
            "          Dropout-10           [-1, 16, 10, 10]               0\n",
            "           Conv2d-11             [-1, 16, 8, 8]           2,320\n",
            "      BatchNorm2d-12             [-1, 16, 8, 8]              32\n",
            "          Dropout-13             [-1, 16, 8, 8]               0\n",
            "           Conv2d-14             [-1, 15, 6, 6]           2,175\n",
            "AdaptiveAvgPool2d-15             [-1, 15, 1, 1]               0\n",
            "           Conv2d-16             [-1, 10, 1, 1]             160\n",
            "================================================================\n",
            "Total params: 7,939\n",
            "Trainable params: 7,939\n",
            "Non-trainable params: 0\n",
            "----------------------------------------------------------------\n",
            "Input size (MB): 0.00\n",
            "Forward/backward pass size (MB): 0.42\n",
            "Params size (MB): 0.03\n",
            "Estimated Total Size (MB): 0.45\n",
            "----------------------------------------------------------------\n"
          ]
        },
        {
          "name": "stderr",
          "output_type": "stream",
          "text": [
            "<ipython-input-17-89d19ebaed0e>:51: UserWarning: Implicit dimension choice for log_softmax has been deprecated. Change the call to include dim=X as an argument.\n",
            "  return F.log_softmax(x)\n"
          ]
        }
      ],
      "source": [
        "# Try ExponentialLR\n",
        "\n",
        "lr = 0.1\n",
        "\n",
        "oclr_max_lr = 0.1\n",
        "num_epochs = 15\n",
        "\n",
        "model = Net().to(device)\n",
        "\n",
        "optimizer = optim.SGD(model.parameters(), lr=lr)\n",
        "# scheduler = StepLR(optimizer, step_size=step_size, gamma=gamma)\n",
        "# scheduler = OneCycleLR(optimizer, max_lr=oclr_max_lr, steps_per_epoch=1, epochs=num_epochs)\n",
        "scheduler = torch.optim.lr_scheduler.ExponentialLR(optimizer, gamma=0.7)\n",
        "\n",
        "summary(model, input_size=(1, 28, 28))\n",
        "\n",
        "\n",
        "\n",
        "#epoch: 13\n",
        "#lr: 0.0013841287200999988\n",
        "#Train set: Average loss: 0.0005, Accuracy: 98.27%\n",
        "#Test set: Average loss: 0.0442, Accuracy: 9868/10000 (98.68%)\n",
        "\n",
        "#epoch: 14\n",
        "#lr: 0.0009688901040699991\n",
        "#Train set: Average loss: 0.0005, Accuracy: 98.14%\n",
        "#Test set: Average loss: 0.0454, Accuracy: 9865/10000 (98.65%)\n",
        "\n",
        "#epoch: 15\n",
        "#lr: 0.0006782230728489993\n",
        "#Train set: Average loss: 0.0005, Accuracy: 98.19%\n",
        "#Test set: Average loss: 0.0434, Accuracy: 9869/10000 (98.69%)\n",
        "\n"
      ]
    },
    {
      "cell_type": "code",
      "execution_count": null,
      "metadata": {
        "colab": {
          "base_uri": "https://localhost:8080/"
        },
        "id": "vpx3v_rfNnHG",
        "outputId": "1fb42e03-4e19-4d9e-b800-08523a5ae45d"
      },
      "outputs": [
        {
          "name": "stdout",
          "output_type": "stream",
          "text": [
            "----------------------------------------------------------------\n",
            "        Layer (type)               Output Shape         Param #\n",
            "================================================================\n",
            "            Conv2d-1           [-1, 12, 26, 26]             120\n",
            "       BatchNorm2d-2           [-1, 12, 26, 26]              24\n",
            "           Dropout-3           [-1, 12, 26, 26]               0\n",
            "            Conv2d-4           [-1, 12, 24, 24]           1,308\n",
            "       BatchNorm2d-5           [-1, 12, 24, 24]              24\n",
            "           Dropout-6           [-1, 12, 24, 24]               0\n",
            "         MaxPool2d-7           [-1, 12, 12, 12]               0\n",
            "            Conv2d-8           [-1, 16, 10, 10]           1,744\n",
            "       BatchNorm2d-9           [-1, 16, 10, 10]              32\n",
            "          Dropout-10           [-1, 16, 10, 10]               0\n",
            "           Conv2d-11             [-1, 16, 8, 8]           2,320\n",
            "      BatchNorm2d-12             [-1, 16, 8, 8]              32\n",
            "          Dropout-13             [-1, 16, 8, 8]               0\n",
            "           Conv2d-14             [-1, 15, 6, 6]           2,175\n",
            "AdaptiveAvgPool2d-15             [-1, 15, 1, 1]               0\n",
            "           Conv2d-16             [-1, 10, 1, 1]             160\n",
            "================================================================\n",
            "Total params: 7,939\n",
            "Trainable params: 7,939\n",
            "Non-trainable params: 0\n",
            "----------------------------------------------------------------\n",
            "Input size (MB): 0.00\n",
            "Forward/backward pass size (MB): 0.42\n",
            "Params size (MB): 0.03\n",
            "Estimated Total Size (MB): 0.45\n",
            "----------------------------------------------------------------\n"
          ]
        },
        {
          "name": "stderr",
          "output_type": "stream",
          "text": [
            "<ipython-input-17-89d19ebaed0e>:51: UserWarning: Implicit dimension choice for log_softmax has been deprecated. Change the call to include dim=X as an argument.\n",
            "  return F.log_softmax(x)\n"
          ]
        }
      ],
      "source": [
        "Net = Net_17\n",
        "\n",
        "lr = 0.1\n",
        "\n",
        "oclr_max_lr = 0.1\n",
        "num_epochs = 15\n",
        "\n",
        "model = Net().to(device)\n",
        "\n",
        "optimizer = optim.SGD(model.parameters(), lr=lr)\n",
        "# scheduler = StepLR(optimizer, step_size=step_size, gamma=gamma)\n",
        "scheduler = OneCycleLR(optimizer, max_lr=oclr_max_lr, steps_per_epoch=1, epochs=num_epochs, pct_start=0.2)\n",
        "\n",
        "summary(model, input_size=(1, 28, 28))\n",
        "\n",
        "\n"
      ]
    },
    {
      "cell_type": "code",
      "execution_count": null,
      "metadata": {
        "id": "f4Dplxu6IUPL"
      },
      "outputs": [],
      "source": [
        "# model = torch.nn.Linear(2, 1)\n",
        "# optimizer = torch.optim.SGD(model.parameters(), lr=0.1)\n",
        "# scheduler = torch.optim.lr_scheduler.ExponentialLR(optimizer, gamma=0.7)\n",
        "# lrs = []\n",
        "\n",
        "\n",
        "# for i in range(15):\n",
        "#     optimizer.step()\n",
        "#     lrs.append(optimizer.param_groups[0][\"lr\"])\n",
        "#     print(\"lr: \", optimizer.param_groups[0][\"lr\"])\n",
        "#     scheduler.step()\n",
        "\n",
        "# plt.plot(lrs)"
      ]
    },
    {
      "cell_type": "code",
      "execution_count": null,
      "metadata": {
        "colab": {
          "base_uri": "https://localhost:8080/"
        },
        "id": "VprgbfQ1q3cz",
        "outputId": "fe320346-2d02-4b15-cc9e-b389349e6e6a"
      },
      "outputs": [
        {
          "name": "stdout",
          "output_type": "stream",
          "text": [
            "----------------------------------------------------------------\n",
            "        Layer (type)               Output Shape         Param #\n",
            "================================================================\n",
            "            Conv2d-1           [-1, 12, 26, 26]             120\n",
            "       BatchNorm2d-2           [-1, 12, 26, 26]              24\n",
            "           Dropout-3           [-1, 12, 26, 26]               0\n",
            "            Conv2d-4           [-1, 12, 24, 24]           1,308\n",
            "       BatchNorm2d-5           [-1, 12, 24, 24]              24\n",
            "           Dropout-6           [-1, 12, 24, 24]               0\n",
            "         MaxPool2d-7           [-1, 12, 12, 12]               0\n",
            "            Conv2d-8           [-1, 16, 10, 10]           1,744\n",
            "       BatchNorm2d-9           [-1, 16, 10, 10]              32\n",
            "          Dropout-10           [-1, 16, 10, 10]               0\n",
            "           Conv2d-11             [-1, 16, 8, 8]           2,320\n",
            "      BatchNorm2d-12             [-1, 16, 8, 8]              32\n",
            "          Dropout-13             [-1, 16, 8, 8]               0\n",
            "           Conv2d-14             [-1, 15, 6, 6]           2,175\n",
            "AdaptiveAvgPool2d-15             [-1, 15, 1, 1]               0\n",
            "           Conv2d-16             [-1, 10, 1, 1]             160\n",
            "================================================================\n",
            "Total params: 7,939\n",
            "Trainable params: 7,939\n",
            "Non-trainable params: 0\n",
            "----------------------------------------------------------------\n",
            "Input size (MB): 0.00\n",
            "Forward/backward pass size (MB): 0.42\n",
            "Params size (MB): 0.03\n",
            "Estimated Total Size (MB): 0.45\n",
            "----------------------------------------------------------------\n"
          ]
        },
        {
          "name": "stderr",
          "output_type": "stream",
          "text": [
            "<ipython-input-17-89d19ebaed0e>:51: UserWarning: Implicit dimension choice for log_softmax has been deprecated. Change the call to include dim=X as an argument.\n",
            "  return F.log_softmax(x)\n"
          ]
        }
      ],
      "source": [
        "Net = Net_17\n",
        "\n",
        "lr = 0.1\n",
        "\n",
        "oclr_max_lr = 0.1\n",
        "num_epochs = 15\n",
        "\n",
        "model = Net().to(device)\n",
        "\n",
        "optimizer = optim.SGD(model.parameters(), lr=lr)\n",
        "scheduler = OneCycleLR(optimizer, max_lr=oclr_max_lr, steps_per_epoch=1,\n",
        "                       epochs=num_epochs, pct_start=0.3)\n",
        "\n",
        "summary(model, input_size=(1, 28, 28))"
      ]
    },
    {
      "cell_type": "code",
      "execution_count": null,
      "metadata": {
        "colab": {
          "base_uri": "https://localhost:8080/",
          "height": 1000
        },
        "id": "-8Jkt9vH9fnq",
        "outputId": "6a31409b-4add-4ad6-ad5a-4fcbed756d54"
      },
      "outputs": [
        {
          "name": "stdout",
          "output_type": "stream",
          "text": [
            "#epoch: 1\n",
            "#lr: 0.0040000000000000036\n"
          ]
        },
        {
          "name": "stderr",
          "output_type": "stream",
          "text": [
            "\r  0%|          | 0/469 [00:00<?, ?it/s]<ipython-input-17-89d19ebaed0e>:51: UserWarning: Implicit dimension choice for log_softmax has been deprecated. Change the call to include dim=X as an argument.\n",
            "  return F.log_softmax(x)\n",
            "loss=0.17490625381469727 batch_id=468: 100%|██████████| 469/469 [00:33<00:00, 13.92it/s]"
          ]
        },
        {
          "name": "stdout",
          "output_type": "stream",
          "text": [
            "\n",
            "#Train set: Average loss: 0.0080, Accuracy: 65.27%\n"
          ]
        },
        {
          "name": "stderr",
          "output_type": "stream",
          "text": [
            "\n"
          ]
        },
        {
          "name": "stdout",
          "output_type": "stream",
          "text": [
            "#Test set: Average loss: 0.2518, Accuracy: 9222/10000 (92.22%)\n",
            "\n",
            "#epoch: 2\n",
            "#lr: 0.022072489510780793\n"
          ]
        },
        {
          "name": "stderr",
          "output_type": "stream",
          "text": [
            "loss=0.0644674226641655 batch_id=468: 100%|██████████| 469/469 [00:25<00:00, 18.53it/s]"
          ]
        },
        {
          "name": "stdout",
          "output_type": "stream",
          "text": [
            "\n",
            "#Train set: Average loss: 0.0013, Accuracy: 95.00%\n"
          ]
        },
        {
          "name": "stderr",
          "output_type": "stream",
          "text": [
            "\n"
          ]
        },
        {
          "name": "stdout",
          "output_type": "stream",
          "text": [
            "#Test set: Average loss: 0.0639, Accuracy: 9810/10000 (98.10%)\n",
            "\n",
            "#epoch: 3\n",
            "#lr: 0.0626810048299031\n"
          ]
        },
        {
          "name": "stderr",
          "output_type": "stream",
          "text": [
            "loss=0.11920801550149918 batch_id=468: 100%|██████████| 469/469 [00:25<00:00, 18.13it/s]"
          ]
        },
        {
          "name": "stdout",
          "output_type": "stream",
          "text": [
            "\n",
            "#Train set: Average loss: 0.0008, Accuracy: 96.95%\n"
          ]
        },
        {
          "name": "stderr",
          "output_type": "stream",
          "text": [
            "\n"
          ]
        },
        {
          "name": "stdout",
          "output_type": "stream",
          "text": [
            "#Test set: Average loss: 0.0639, Accuracy: 9783/10000 (97.83%)\n",
            "\n",
            "#epoch: 4\n",
            "#lr: 0.09524650565931612\n"
          ]
        },
        {
          "name": "stderr",
          "output_type": "stream",
          "text": [
            "loss=0.05484486743807793 batch_id=468: 100%|██████████| 469/469 [00:26<00:00, 17.56it/s]"
          ]
        },
        {
          "name": "stdout",
          "output_type": "stream",
          "text": [
            "\n",
            "#Train set: Average loss: 0.0006, Accuracy: 97.63%\n"
          ]
        },
        {
          "name": "stderr",
          "output_type": "stream",
          "text": [
            "\n"
          ]
        },
        {
          "name": "stdout",
          "output_type": "stream",
          "text": [
            "#Test set: Average loss: 0.0411, Accuracy: 9884/10000 (98.84%)\n",
            "\n",
            "#epoch: 5\n",
            "#lr: 0.09944154354509119\n"
          ]
        },
        {
          "name": "stderr",
          "output_type": "stream",
          "text": [
            "loss=0.07897200435400009 batch_id=468: 100%|██████████| 469/469 [00:26<00:00, 17.59it/s]"
          ]
        },
        {
          "name": "stdout",
          "output_type": "stream",
          "text": [
            "\n",
            "#Train set: Average loss: 0.0005, Accuracy: 98.08%\n"
          ]
        },
        {
          "name": "stderr",
          "output_type": "stream",
          "text": [
            "\n"
          ]
        },
        {
          "name": "stdout",
          "output_type": "stream",
          "text": [
            "#Test set: Average loss: 0.0310, Accuracy: 9907/10000 (99.07%)\n",
            "\n",
            "#epoch: 6\n",
            "#lr: 0.09504846320134738\n"
          ]
        },
        {
          "name": "stderr",
          "output_type": "stream",
          "text": [
            "loss=0.030147211626172066 batch_id=468: 100%|██████████| 469/469 [00:25<00:00, 18.23it/s]"
          ]
        },
        {
          "name": "stdout",
          "output_type": "stream",
          "text": [
            "\n",
            "#Train set: Average loss: 0.0004, Accuracy: 98.33%\n"
          ]
        },
        {
          "name": "stderr",
          "output_type": "stream",
          "text": [
            "\n"
          ]
        },
        {
          "name": "stdout",
          "output_type": "stream",
          "text": [
            "#Test set: Average loss: 0.0351, Accuracy: 9896/10000 (98.96%)\n",
            "\n",
            "#epoch: 7\n",
            "#lr: 0.08665264698111695\n"
          ]
        },
        {
          "name": "stderr",
          "output_type": "stream",
          "text": [
            "loss=0.05822373926639557 batch_id=468: 100%|██████████| 469/469 [00:26<00:00, 18.03it/s]"
          ]
        },
        {
          "name": "stdout",
          "output_type": "stream",
          "text": [
            "\n",
            "#Train set: Average loss: 0.0004, Accuracy: 98.40%\n"
          ]
        },
        {
          "name": "stderr",
          "output_type": "stream",
          "text": [
            "\n"
          ]
        },
        {
          "name": "stdout",
          "output_type": "stream",
          "text": [
            "#Test set: Average loss: 0.0317, Accuracy: 9904/10000 (99.04%)\n",
            "\n",
            "#epoch: 8\n",
            "#lr: 0.0750001\n"
          ]
        },
        {
          "name": "stderr",
          "output_type": "stream",
          "text": [
            "loss=0.058729302138090134 batch_id=468: 100%|██████████| 469/469 [00:25<00:00, 18.76it/s]"
          ]
        },
        {
          "name": "stdout",
          "output_type": "stream",
          "text": [
            "\n",
            "#Train set: Average loss: 0.0004, Accuracy: 98.50%\n"
          ]
        },
        {
          "name": "stderr",
          "output_type": "stream",
          "text": [
            "\n"
          ]
        },
        {
          "name": "stdout",
          "output_type": "stream",
          "text": [
            "#Test set: Average loss: 0.0329, Accuracy: 9903/10000 (99.03%)\n",
            "\n",
            "#epoch: 9\n",
            "#lr: 0.06112620219362893\n"
          ]
        },
        {
          "name": "stderr",
          "output_type": "stream",
          "text": [
            "loss=0.025506997480988503 batch_id=468: 100%|██████████| 469/469 [00:25<00:00, 18.20it/s]"
          ]
        },
        {
          "name": "stdout",
          "output_type": "stream",
          "text": [
            "\n",
            "#Train set: Average loss: 0.0003, Accuracy: 98.69%\n"
          ]
        },
        {
          "name": "stderr",
          "output_type": "stream",
          "text": [
            "\n"
          ]
        },
        {
          "name": "stdout",
          "output_type": "stream",
          "text": [
            "#Test set: Average loss: 0.0329, Accuracy: 9900/10000 (99.00%)\n",
            "\n",
            "#epoch: 10\n",
            "#lr: 0.046263710266697504\n"
          ]
        },
        {
          "name": "stderr",
          "output_type": "stream",
          "text": [
            "loss=0.06617381423711777 batch_id=468: 100%|██████████| 469/469 [00:25<00:00, 18.60it/s]"
          ]
        },
        {
          "name": "stdout",
          "output_type": "stream",
          "text": [
            "\n",
            "#Train set: Average loss: 0.0003, Accuracy: 98.78%\n"
          ]
        },
        {
          "name": "stderr",
          "output_type": "stream",
          "text": [
            "\n"
          ]
        },
        {
          "name": "stdout",
          "output_type": "stream",
          "text": [
            "#Test set: Average loss: 0.0258, Accuracy: 9919/10000 (99.19%)\n",
            "\n",
            "#epoch: 11\n",
            "#lr: 0.03173322184988512\n"
          ]
        },
        {
          "name": "stderr",
          "output_type": "stream",
          "text": [
            "loss=0.0950298085808754 batch_id=468: 100%|██████████| 469/469 [00:25<00:00, 18.67it/s]"
          ]
        },
        {
          "name": "stdout",
          "output_type": "stream",
          "text": [
            "\n",
            "#Train set: Average loss: 0.0003, Accuracy: 98.84%\n"
          ]
        },
        {
          "name": "stderr",
          "output_type": "stream",
          "text": [
            "\n"
          ]
        },
        {
          "name": "stdout",
          "output_type": "stream",
          "text": [
            "#Test set: Average loss: 0.0222, Accuracy: 9927/10000 (99.27%)\n",
            "\n",
            "#epoch: 12\n",
            "#lr: 0.0188258346050237\n"
          ]
        },
        {
          "name": "stderr",
          "output_type": "stream",
          "text": [
            "loss=0.017018385231494904 batch_id=468: 100%|██████████| 469/469 [00:25<00:00, 18.66it/s]"
          ]
        },
        {
          "name": "stdout",
          "output_type": "stream",
          "text": [
            "\n",
            "#Train set: Average loss: 0.0002, Accuracy: 99.01%\n"
          ]
        },
        {
          "name": "stderr",
          "output_type": "stream",
          "text": [
            "\n"
          ]
        },
        {
          "name": "stdout",
          "output_type": "stream",
          "text": [
            "#Test set: Average loss: 0.0197, Accuracy: 9936/10000 (99.36%)\n",
            "\n",
            "#epoch: 13\n",
            "#lr: 0.008688426531955128\n"
          ]
        },
        {
          "name": "stderr",
          "output_type": "stream",
          "text": [
            "loss=0.014849289320409298 batch_id=468: 100%|██████████| 469/469 [00:24<00:00, 18.78it/s]"
          ]
        },
        {
          "name": "stdout",
          "output_type": "stream",
          "text": [
            "\n",
            "#Train set: Average loss: 0.0002, Accuracy: 99.01%\n"
          ]
        },
        {
          "name": "stderr",
          "output_type": "stream",
          "text": [
            "\n"
          ]
        },
        {
          "name": "stdout",
          "output_type": "stream",
          "text": [
            "#Test set: Average loss: 0.0209, Accuracy: 9934/10000 (99.34%)\n",
            "\n",
            "#epoch: 14\n",
            "#lr: 0.002221750825254118\n"
          ]
        },
        {
          "name": "stderr",
          "output_type": "stream",
          "text": [
            "loss=0.05150482431054115 batch_id=468: 100%|██████████| 469/469 [00:25<00:00, 18.58it/s]"
          ]
        },
        {
          "name": "stdout",
          "output_type": "stream",
          "text": [
            "\n",
            "#Train set: Average loss: 0.0002, Accuracy: 99.12%\n"
          ]
        },
        {
          "name": "stderr",
          "output_type": "stream",
          "text": [
            "\n"
          ]
        },
        {
          "name": "stdout",
          "output_type": "stream",
          "text": [
            "#Test set: Average loss: 0.0199, Accuracy: 9937/10000 (99.37%)\n",
            "\n",
            "#epoch: 15\n",
            "#lr: 4e-07\n"
          ]
        },
        {
          "name": "stderr",
          "output_type": "stream",
          "text": [
            "loss=0.019408313557505608 batch_id=468: 100%|██████████| 469/469 [00:25<00:00, 18.37it/s]"
          ]
        },
        {
          "name": "stdout",
          "output_type": "stream",
          "text": [
            "\n",
            "#Train set: Average loss: 0.0002, Accuracy: 99.15%\n"
          ]
        },
        {
          "name": "stderr",
          "output_type": "stream",
          "text": [
            "\n"
          ]
        },
        {
          "name": "stdout",
          "output_type": "stream",
          "text": [
            "#Test set: Average loss: 0.0194, Accuracy: 9937/10000 (99.37%)\n",
            "\n"
          ]
        },
        {
          "data": {
            "text/plain": [
              "[<matplotlib.lines.Line2D at 0x7f073059d480>]"
            ]
          },
          "execution_count": 22,
          "metadata": {},
          "output_type": "execute_result"
        },
        {
          "data": {
            "image/png": "[encoded data removed]",
            "text/plain": [
              "<Figure size 640x480 with 1 Axes>"
            ]
          },
          "metadata": {},
          "output_type": "display_data"
        }
      ],
      "source": [
        "lrs = []\n",
        "for epoch in range(1, num_epochs+1):\n",
        "    print(f'#epoch: {epoch}')\n",
        "    print(f'#lr: {optimizer.param_groups[0][\"lr\"]}')\n",
        "    lrs.append(optimizer.param_groups[0][\"lr\"])\n",
        "    train(model, device, train_loader, optimizer, epoch)\n",
        "    test(model, device, test_loader)\n",
        "\n",
        "    scheduler.step()\n",
        "\n",
        "plt.plot(lrs)"
      ]
    }
  ],
  "metadata": {
    "accelerator": "GPU",
    "colab": {
      "gpuType": "T4",
      "provenance": []
    },
    "kernelspec": {
      "display_name": "Python 3",
      "name": "python3"
    },
    "language_info": {
      "name": "python"
    }
  },
  "nbformat": 4,
  "nbformat_minor": 0
}
